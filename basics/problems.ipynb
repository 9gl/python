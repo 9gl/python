{
  "nbformat": 4,
  "nbformat_minor": 0,
  "metadata": {
    "colab": {
      "name": "problems.ipynb",
      "provenance": [],
      "collapsed_sections": []
    },
    "kernelspec": {
      "name": "python3",
      "display_name": "Python 3"
    },
    "language_info": {
      "name": "python"
    }
  },
  "cells": [
    {
      "cell_type": "code",
      "metadata": {
        "colab": {
          "base_uri": "https://localhost:8080/",
          "height": 35
        },
        "id": "QZFMG8B9MAM4",
        "outputId": "190400c6-9296-42c6-8d98-1e37d6d97615"
      },
      "source": [
        "%autosave 5"
      ],
      "execution_count": null,
      "outputs": [
        {
          "output_type": "display_data",
          "data": {
            "application/javascript": [
              "IPython.notebook.set_autosave_interval(5000)"
            ]
          },
          "metadata": {}
        },
        {
          "output_type": "stream",
          "name": "stdout",
          "text": [
            "Autosaving every 5 seconds\n"
          ]
        }
      ]
    },
    {
      "cell_type": "code",
      "metadata": {
        "colab": {
          "base_uri": "https://localhost:8080/"
        },
        "id": "aF_4K2NaMEdv",
        "outputId": "0b595076-68f7-444e-cc01-28450c623dd0"
      },
      "source": [
        "%%file wc.py\n",
        "import sys\n",
        "def line_count(filename):\n",
        "    with open(filename) as f:\n",
        "        return len(f.readlines())\n",
        "    \n",
        "    \n",
        "def word_count(filename):\n",
        "    with open(filename) as f:\n",
        "        words = f.read().split()\n",
        "        return len(words)\n",
        "        \n",
        "\n",
        "def char_count(filename):\n",
        "    with open(filename) as f:\n",
        "        return len(f.read())\n",
        "    \n",
        "    \n",
        "if __name__ == \"__main__\":\n",
        "    f = sys.argv[1]\n",
        "    print(line_count(f), \n",
        "          word_count(f),\n",
        "          char_count(f),\n",
        "          f)"
      ],
      "execution_count": null,
      "outputs": [
        {
          "output_type": "stream",
          "name": "stdout",
          "text": [
            "Writing wc.py\n"
          ]
        }
      ]
    },
    {
      "cell_type": "code",
      "metadata": {
        "colab": {
          "base_uri": "https://localhost:8080/"
        },
        "id": "xfpH6dFIOCY5",
        "outputId": "d4b08d87-eb58-4df5-a586-7e3e6480546f"
      },
      "source": [
        "!python wc.py poem.txt"
      ],
      "execution_count": null,
      "outputs": [
        {
          "output_type": "stream",
          "name": "stdout",
          "text": [
            "Traceback (most recent call last):\n",
            "  File \"wc.py\", line 20, in <module>\n",
            "    print(line_count(f), \n",
            "  File \"wc.py\", line 3, in line_count\n",
            "    with open(filename) as f:\n",
            "FileNotFoundError: [Errno 2] No such file or directory: 'poem.txt'\n"
          ]
        }
      ]
    },
    {
      "cell_type": "code",
      "metadata": {
        "colab": {
          "base_uri": "https://localhost:8080/"
        },
        "id": "zVvDymMEN6xY",
        "outputId": "ad18d6e9-7089-4a19-e1a1-b49a4ecfc2c6"
      },
      "source": [
        "%%file poem.txt\n",
        "The Zen of Python, by Tim Peters\n",
        "\n",
        "Beautiful is better than ugly.\n",
        "Explicit is better than implicit.\n",
        "Simple is better than complex.\n",
        "Complex is better than complicated.\n",
        "Flat is better than nested.\n",
        "Sparse is better than dense.\n",
        "Readability counts.\n",
        "Special cases aren't special enough to break the rules.\n",
        "Although practicality beats purity.\n",
        "Errors should never pass silently.\n",
        "Unless explicitly silenced.\n",
        "In the face of ambiguity, refuse the temptation to guess.\n",
        "There should be one-- and preferably only one --obvious way to do it.\n",
        "Although that way may not be obvious at first unless you're Dutch.\n",
        "Now is better than never.\n",
        "Although never is often better than *right* now.\n",
        "If the implementation is hard to explain, it's a bad idea.\n",
        "If the implementation is easy to explain, it may be a good idea.\n",
        "Namespaces are one honking great idea -- let's do more of those!"
      ],
      "execution_count": null,
      "outputs": [
        {
          "output_type": "stream",
          "name": "stdout",
          "text": [
            "Writing poem.txt\n"
          ]
        }
      ]
    },
    {
      "cell_type": "markdown",
      "metadata": {
        "id": "a3RjuuVnOjQx"
      },
      "source": [
        "###Problems\n",
        "- There is a string 'abrakadabra', we want to capitalize alternate from it . how can we do it ? can we use list comprehension to do this?\n",
        "- Some records are stored with timestamp in database as shown below\n",
        "```\n",
        "records = [(\"2018-11-11 24:04\", \"11803\", \"16602\"),\n",
        "         (\"2018-11-11 24:09\", \"11803\", \"16602\"),\n",
        "         (\"2018-11-11 24:14\", \"11803\", \"16602\"),\n",
        "         (\"2018-11-11 24:19\", \"11803\", \"16602\"),\n",
        "         (\"2018-11-11 24:24\", \"11803\", \"16602\"),\n",
        "         (\"2018-11-11 24:30\", \"11803\", \"16602\"),\n",
        "         (\"2018-11-11 24:59\", \"11803\", \"16602\"),\n",
        "         (\"2018-11-12 01:04\", \"11803\", \"16602\")]\n",
        "```\n",
        "write a function to correct this from \"2018-11-11 24:04\" -> \"2018-11-12 00:04\"\n",
        "- Implement execel function COUNTIFS as a fucntion in python. COUNTIFS(criteria_list, condition). First argument is the list on which condition given as next argument will be performed. and it will returns how many places condition is true. ` \"<\" ----- less than \"<=\"------ less than or equal to \">\"------- greater than \">=\"------- greater than or equal to \"<>\" not equal to\n",
        "```\n",
        "sample run is\n",
        "\n",
        "a = [10, 20, 30, 40, 50, 40, 40, 50] COUNTIFS(a, \"<40\") COUNTIFS(a, \"\n",
        "```"
      ]
    },
    {
      "cell_type": "code",
      "metadata": {
        "id": "21W9pvAkN-8_"
      },
      "source": [
        "def conditional_caps(index, c):\n",
        "    if index % 2 == 0 :\n",
        "        return c.upper() \n",
        "    else:\n",
        "        return c.lower()\n",
        "\n",
        "def alternate_caps(text):\n",
        "    chars = \"\"\n",
        "    for i, c in enumerate(text):\n",
        "        chars = chars + conditional_caps(i,c)\n",
        "    return chars"
      ],
      "execution_count": null,
      "outputs": []
    },
    {
      "cell_type": "code",
      "metadata": {
        "id": "Cr0wMaisUxeH"
      },
      "source": [
        "def conditional_caps(index, c):\n",
        "    if index % 2 == 0 :\n",
        "        return c.upper() \n",
        "    else:\n",
        "        return c.lower()\n",
        "\n",
        "def alternate_caps(text):\n",
        "    return \"\".join([conditional_caps(i, c) for i,c in enumerate(text)])"
      ],
      "execution_count": null,
      "outputs": []
    },
    {
      "cell_type": "code",
      "metadata": {
        "colab": {
          "base_uri": "https://localhost:8080/",
          "height": 35
        },
        "id": "n8CGc6sGP2S3",
        "outputId": "87064cf5-e5ed-4cc2-879c-ed88cd3ca47d"
      },
      "source": [
        "alternate_caps('abrakadabra')"
      ],
      "execution_count": null,
      "outputs": [
        {
          "output_type": "execute_result",
          "data": {
            "application/vnd.google.colaboratory.intrinsic+json": {
              "type": "string"
            },
            "text/plain": [
              "'AbRaKaDaBrA'"
            ]
          },
          "metadata": {},
          "execution_count": 7
        }
      ]
    },
    {
      "cell_type": "code",
      "metadata": {
        "id": "poR5rkGSSsWD"
      },
      "source": [
        "records = [(\"2018-11-11 24:04\", \"11803\", \"16602\"),\n",
        "         (\"2018-11-11 24:09\", \"11803\", \"16602\"),\n",
        "         (\"2018-11-11 24:14\", \"11803\", \"16602\"),\n",
        "         (\"2018-11-11 24:19\", \"11803\", \"16602\"),\n",
        "         (\"2018-11-11 24:24\", \"11803\", \"16602\"),\n",
        "         (\"2018-11-11 24:30\", \"11803\", \"16602\"),\n",
        "         (\"2018-11-11 24:59\", \"11803\", \"16602\"),\n",
        "         (\"2018-11-12 01:04\", \"11803\", \"16602\")]"
      ],
      "execution_count": null,
      "outputs": []
    },
    {
      "cell_type": "code",
      "metadata": {
        "id": "s9sbQWUHS73e"
      },
      "source": [
        "r = records[0][0]"
      ],
      "execution_count": null,
      "outputs": []
    },
    {
      "cell_type": "code",
      "metadata": {
        "colab": {
          "base_uri": "https://localhost:8080/",
          "height": 35
        },
        "id": "Ai4dVkBb6Vww",
        "outputId": "ede4d8a7-f4f2-4216-aa7c-397627cb3924"
      },
      "source": [
        "r"
      ],
      "execution_count": null,
      "outputs": [
        {
          "output_type": "execute_result",
          "data": {
            "application/vnd.google.colaboratory.intrinsic+json": {
              "type": "string"
            },
            "text/plain": [
              "'2018-11-11 24:04'"
            ]
          },
          "metadata": {},
          "execution_count": 10
        }
      ]
    },
    {
      "cell_type": "code",
      "metadata": {
        "colab": {
          "base_uri": "https://localhost:8080/",
          "height": 35
        },
        "id": "ZS8Aqae56XV8",
        "outputId": "90ea4c3b-56f9-48a4-bbb3-cf47ff79326a"
      },
      "source": [
        "r.replace(\"24:\",\"00:\")"
      ],
      "execution_count": null,
      "outputs": [
        {
          "output_type": "execute_result",
          "data": {
            "application/vnd.google.colaboratory.intrinsic+json": {
              "type": "string"
            },
            "text/plain": [
              "'2018-11-11 00:04'"
            ]
          },
          "metadata": {},
          "execution_count": 11
        }
      ]
    },
    {
      "cell_type": "code",
      "metadata": {
        "id": "DcIy0cTy7f0u"
      },
      "source": [
        "date, time = r.split()"
      ],
      "execution_count": null,
      "outputs": []
    },
    {
      "cell_type": "code",
      "metadata": {
        "colab": {
          "base_uri": "https://localhost:8080/"
        },
        "id": "i0ptJ31S7kS3",
        "outputId": "783c55a3-4346-48d8-9cb4-a4c5f6d0a9a7"
      },
      "source": [
        "date, time"
      ],
      "execution_count": null,
      "outputs": [
        {
          "output_type": "execute_result",
          "data": {
            "text/plain": [
              "('2018-11-11', '24:04')"
            ]
          },
          "metadata": {},
          "execution_count": 13
        }
      ]
    },
    {
      "cell_type": "code",
      "metadata": {
        "colab": {
          "base_uri": "https://localhost:8080/"
        },
        "id": "u3ihdd4y7zan",
        "outputId": "540ff979-3ad0-40e0-dc61-e5faf55ca5f2"
      },
      "source": [
        "d = date.split('-')\n",
        "d"
      ],
      "execution_count": null,
      "outputs": [
        {
          "output_type": "execute_result",
          "data": {
            "text/plain": [
              "['2018', '11', '11']"
            ]
          },
          "metadata": {},
          "execution_count": 14
        }
      ]
    },
    {
      "cell_type": "code",
      "metadata": {
        "id": "TOn6jv1N7SBK"
      },
      "source": [
        "#Q2.\n",
        "def correct_date(strday):\n",
        "    return str(int(strday) + 1)\n",
        "\n",
        "def correct_time(r):\n",
        "    date, time = r.split()\n",
        "    if \"24\" in r:\n",
        "        y,m,d = date.split('-')\n",
        "        d = correct_date(d)\n",
        "        time = time.replace(\"24:\", \"00:\")\n",
        "        date = '-'.join([y,m,d])\n",
        "        return ' '.join([date, time])\n",
        "    else:\n",
        "        return r\n",
        "\n",
        "def correct(records):\n",
        "    return [(correct_time(dt), x, y) for dt, x, y in records]"
      ],
      "execution_count": null,
      "outputs": []
    },
    {
      "cell_type": "code",
      "metadata": {
        "colab": {
          "base_uri": "https://localhost:8080/"
        },
        "id": "jt69mUmy8eqU",
        "outputId": "e4d43b7a-027e-4f0e-b13e-8bf39b96a79a"
      },
      "source": [
        "correct(records)"
      ],
      "execution_count": null,
      "outputs": [
        {
          "output_type": "execute_result",
          "data": {
            "text/plain": [
              "[('2018-11-12 00:04', '11803', '16602'),\n",
              " ('2018-11-12 00:09', '11803', '16602'),\n",
              " ('2018-11-12 00:14', '11803', '16602'),\n",
              " ('2018-11-12 00:19', '11803', '16602'),\n",
              " ('2018-11-12 00:24', '11803', '16602'),\n",
              " ('2018-11-12 00:30', '11803', '16602'),\n",
              " ('2018-11-12 00:59', '11803', '16602'),\n",
              " ('2018-11-12 01:04', '11803', '16602')]"
            ]
          },
          "metadata": {},
          "execution_count": 16
        }
      ]
    },
    {
      "cell_type": "code",
      "metadata": {
        "id": "r1xC9_UV-Ipl"
      },
      "source": [
        "s = \"<=40\"\n",
        "def less(l,n):\n",
        "    _, x = n\n",
        "    # [print(i) for i in l if i < int(x)]\n",
        "    return len([i for i in l if i < int(x)]) + equal(l,x)\n",
        "     \n",
        "\n",
        "def greater(l,n):\n",
        "    print(\"greater\")\n",
        "    # _, x = n\n",
        "    print(int(n))\n",
        "    # print(x)\n",
        "    return len([i for i in l if int() < i]) + equal(l,x)\n",
        "\n",
        "def equal(l, n):\n",
        "    return l.count(n)\n",
        "    # return 0\n",
        "\n",
        "def not_equal(l, n):\n",
        "    return len(l) - equal(l,n) "
      ],
      "execution_count": null,
      "outputs": []
    },
    {
      "cell_type": "code",
      "metadata": {
        "id": "GtJBbyeBJPnb"
      },
      "source": [
        "def condition_checker(l,con):\n",
        "    if '<' in con:\n",
        "        if '=' in con:\n",
        "            _, n = con.split('=')\n",
        "            return less(l,n)\n",
        "        else:\n",
        "            n = con.split('<')\n",
        "            return less(l,n)\n",
        "    if '>' in con:\n",
        "        if '=' in con:\n",
        "            _, n = con.split('=')\n",
        "            return greater(l,n)\n",
        "        else:\n",
        "            n = con.split('>')\n",
        "            return greater(l,n)\n",
        "    if '<' in con and '>':\n",
        "        n, _ = con.split('<')\n",
        "        return not_equal(l,n) \n",
        "    else:\n",
        "        n = int(con)\n",
        "        return equal(l,n)"
      ],
      "execution_count": null,
      "outputs": []
    },
    {
      "cell_type": "code",
      "metadata": {
        "id": "PEBCGS7FF-Kf"
      },
      "source": [
        "def COUNTIFS(l, condition):\n",
        "    res = condition_checker(l, condition)\n",
        "    return res\n"
      ],
      "execution_count": null,
      "outputs": []
    },
    {
      "cell_type": "code",
      "metadata": {
        "id": "Z0-pV2GPHEzO"
      },
      "source": [
        "a = [10, 20, 30, 40, 50, 40, 40, 50]"
      ],
      "execution_count": null,
      "outputs": []
    },
    {
      "cell_type": "code",
      "metadata": {
        "colab": {
          "base_uri": "https://localhost:8080/"
        },
        "id": "gobNwAXUF7dc",
        "outputId": "766e3f83-103f-4ca8-b622-34de515ded39"
      },
      "source": [
        "COUNTIFS(a, \"<40\")"
      ],
      "execution_count": null,
      "outputs": [
        {
          "output_type": "execute_result",
          "data": {
            "text/plain": [
              "3"
            ]
          },
          "metadata": {},
          "execution_count": 21
        }
      ]
    },
    {
      "cell_type": "code",
      "metadata": {
        "colab": {
          "base_uri": "https://localhost:8080/"
        },
        "id": "-HqhzmR9Mpit",
        "outputId": "e5fac0e7-6a77-4c8d-9999-de4c185aa6c7"
      },
      "source": [
        "COUNTIFS(a, \"40\")"
      ],
      "execution_count": null,
      "outputs": [
        {
          "output_type": "execute_result",
          "data": {
            "text/plain": [
              "3"
            ]
          },
          "metadata": {},
          "execution_count": 22
        }
      ]
    },
    {
      "cell_type": "code",
      "metadata": {
        "colab": {
          "base_uri": "https://localhost:8080/",
          "height": 346
        },
        "id": "jXepYWmBP-dL",
        "outputId": "0ca849f0-9116-46e4-a405-4d15e69a79d9"
      },
      "source": [
        "COUNTIFS(a, \">=40\")"
      ],
      "execution_count": null,
      "outputs": [
        {
          "output_type": "stream",
          "name": "stdout",
          "text": [
            "greater\n",
            "40\n"
          ]
        },
        {
          "output_type": "error",
          "ename": "NameError",
          "evalue": "ignored",
          "traceback": [
            "\u001b[0;31m---------------------------------------------------------------------------\u001b[0m",
            "\u001b[0;31mNameError\u001b[0m                                 Traceback (most recent call last)",
            "\u001b[0;32m<ipython-input-23-f0e5b503849c>\u001b[0m in \u001b[0;36m<module>\u001b[0;34m()\u001b[0m\n\u001b[0;32m----> 1\u001b[0;31m \u001b[0mCOUNTIFS\u001b[0m\u001b[0;34m(\u001b[0m\u001b[0ma\u001b[0m\u001b[0;34m,\u001b[0m \u001b[0;34m\">=40\"\u001b[0m\u001b[0;34m)\u001b[0m\u001b[0;34m\u001b[0m\u001b[0;34m\u001b[0m\u001b[0m\n\u001b[0m",
            "\u001b[0;32m<ipython-input-19-90570f56d94f>\u001b[0m in \u001b[0;36mCOUNTIFS\u001b[0;34m(l, condition)\u001b[0m\n\u001b[1;32m      1\u001b[0m \u001b[0;32mdef\u001b[0m \u001b[0mCOUNTIFS\u001b[0m\u001b[0;34m(\u001b[0m\u001b[0ml\u001b[0m\u001b[0;34m,\u001b[0m \u001b[0mcondition\u001b[0m\u001b[0;34m)\u001b[0m\u001b[0;34m:\u001b[0m\u001b[0;34m\u001b[0m\u001b[0;34m\u001b[0m\u001b[0m\n\u001b[0;32m----> 2\u001b[0;31m     \u001b[0mres\u001b[0m \u001b[0;34m=\u001b[0m \u001b[0mcondition_checker\u001b[0m\u001b[0;34m(\u001b[0m\u001b[0ml\u001b[0m\u001b[0;34m,\u001b[0m \u001b[0mcondition\u001b[0m\u001b[0;34m)\u001b[0m\u001b[0;34m\u001b[0m\u001b[0;34m\u001b[0m\u001b[0m\n\u001b[0m\u001b[1;32m      3\u001b[0m     \u001b[0;32mreturn\u001b[0m \u001b[0mres\u001b[0m\u001b[0;34m\u001b[0m\u001b[0;34m\u001b[0m\u001b[0m\n",
            "\u001b[0;32m<ipython-input-18-87cf1d7fd491>\u001b[0m in \u001b[0;36mcondition_checker\u001b[0;34m(l, con)\u001b[0m\n\u001b[1;32m     10\u001b[0m         \u001b[0;32mif\u001b[0m \u001b[0;34m'='\u001b[0m \u001b[0;32min\u001b[0m \u001b[0mcon\u001b[0m\u001b[0;34m:\u001b[0m\u001b[0;34m\u001b[0m\u001b[0;34m\u001b[0m\u001b[0m\n\u001b[1;32m     11\u001b[0m             \u001b[0m_\u001b[0m\u001b[0;34m,\u001b[0m \u001b[0mn\u001b[0m \u001b[0;34m=\u001b[0m \u001b[0mcon\u001b[0m\u001b[0;34m.\u001b[0m\u001b[0msplit\u001b[0m\u001b[0;34m(\u001b[0m\u001b[0;34m'='\u001b[0m\u001b[0;34m)\u001b[0m\u001b[0;34m\u001b[0m\u001b[0;34m\u001b[0m\u001b[0m\n\u001b[0;32m---> 12\u001b[0;31m             \u001b[0;32mreturn\u001b[0m \u001b[0mgreater\u001b[0m\u001b[0;34m(\u001b[0m\u001b[0ml\u001b[0m\u001b[0;34m,\u001b[0m\u001b[0mn\u001b[0m\u001b[0;34m)\u001b[0m\u001b[0;34m\u001b[0m\u001b[0;34m\u001b[0m\u001b[0m\n\u001b[0m\u001b[1;32m     13\u001b[0m         \u001b[0;32melse\u001b[0m\u001b[0;34m:\u001b[0m\u001b[0;34m\u001b[0m\u001b[0;34m\u001b[0m\u001b[0m\n\u001b[1;32m     14\u001b[0m             \u001b[0mn\u001b[0m \u001b[0;34m=\u001b[0m \u001b[0mcon\u001b[0m\u001b[0;34m.\u001b[0m\u001b[0msplit\u001b[0m\u001b[0;34m(\u001b[0m\u001b[0;34m'>'\u001b[0m\u001b[0;34m)\u001b[0m\u001b[0;34m\u001b[0m\u001b[0;34m\u001b[0m\u001b[0m\n",
            "\u001b[0;32m<ipython-input-17-410e64e0987e>\u001b[0m in \u001b[0;36mgreater\u001b[0;34m(l, n)\u001b[0m\n\u001b[1;32m     11\u001b[0m     \u001b[0mprint\u001b[0m\u001b[0;34m(\u001b[0m\u001b[0mint\u001b[0m\u001b[0;34m(\u001b[0m\u001b[0mn\u001b[0m\u001b[0;34m)\u001b[0m\u001b[0;34m)\u001b[0m\u001b[0;34m\u001b[0m\u001b[0;34m\u001b[0m\u001b[0m\n\u001b[1;32m     12\u001b[0m     \u001b[0;31m# print(x)\u001b[0m\u001b[0;34m\u001b[0m\u001b[0;34m\u001b[0m\u001b[0;34m\u001b[0m\u001b[0m\n\u001b[0;32m---> 13\u001b[0;31m     \u001b[0;32mreturn\u001b[0m \u001b[0mlen\u001b[0m\u001b[0;34m(\u001b[0m\u001b[0;34m[\u001b[0m\u001b[0mi\u001b[0m \u001b[0;32mfor\u001b[0m \u001b[0mi\u001b[0m \u001b[0;32min\u001b[0m \u001b[0ml\u001b[0m \u001b[0;32mif\u001b[0m \u001b[0mint\u001b[0m\u001b[0;34m(\u001b[0m\u001b[0;34m)\u001b[0m \u001b[0;34m<\u001b[0m \u001b[0mi\u001b[0m\u001b[0;34m]\u001b[0m\u001b[0;34m)\u001b[0m \u001b[0;34m+\u001b[0m \u001b[0mequal\u001b[0m\u001b[0;34m(\u001b[0m\u001b[0ml\u001b[0m\u001b[0;34m,\u001b[0m\u001b[0mx\u001b[0m\u001b[0;34m)\u001b[0m\u001b[0;34m\u001b[0m\u001b[0;34m\u001b[0m\u001b[0m\n\u001b[0m\u001b[1;32m     14\u001b[0m \u001b[0;34m\u001b[0m\u001b[0m\n\u001b[1;32m     15\u001b[0m \u001b[0;32mdef\u001b[0m \u001b[0mequal\u001b[0m\u001b[0;34m(\u001b[0m\u001b[0ml\u001b[0m\u001b[0;34m,\u001b[0m \u001b[0mn\u001b[0m\u001b[0;34m)\u001b[0m\u001b[0;34m:\u001b[0m\u001b[0;34m\u001b[0m\u001b[0;34m\u001b[0m\u001b[0m\n",
            "\u001b[0;31mNameError\u001b[0m: name 'x' is not defined"
          ]
        }
      ]
    },
    {
      "cell_type": "code",
      "metadata": {
        "id": "VyI5bUmURUpf"
      },
      "source": [
        ""
      ],
      "execution_count": null,
      "outputs": []
    }
  ]
}