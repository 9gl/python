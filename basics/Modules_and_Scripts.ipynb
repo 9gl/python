{
  "nbformat": 4,
  "nbformat_minor": 0,
  "metadata": {
    "colab": {
      "name": "Modules and Scripts.ipynb",
      "provenance": [],
      "collapsed_sections": []
    },
    "kernelspec": {
      "name": "python3",
      "display_name": "Python 3"
    },
    "language_info": {
      "name": "python"
    }
  },
  "cells": [
    {
      "cell_type": "markdown",
      "metadata": {
        "id": "Dp0TH7xtePWy"
      },
      "source": [
        "# Modules and Scripts"
      ]
    },
    {
      "cell_type": "code",
      "metadata": {
        "colab": {
          "base_uri": "https://localhost:8080/",
          "height": 35
        },
        "id": "VvXaTHNUflyC",
        "outputId": "4da1e0f7-8115-45d3-8047-c17696eb43d0"
      },
      "source": [
        "%autosave 5"
      ],
      "execution_count": 1,
      "outputs": [
        {
          "output_type": "display_data",
          "data": {
            "application/javascript": [
              "IPython.notebook.set_autosave_interval(5000)"
            ]
          },
          "metadata": {}
        },
        {
          "output_type": "stream",
          "name": "stdout",
          "text": [
            "Autosaving every 5 seconds\n"
          ]
        }
      ]
    },
    {
      "cell_type": "code",
      "metadata": {
        "id": "I1dpzW2PeJI2"
      },
      "source": [
        "import math"
      ],
      "execution_count": 2,
      "outputs": []
    },
    {
      "cell_type": "code",
      "metadata": {
        "colab": {
          "base_uri": "https://localhost:8080/"
        },
        "id": "h5DIeoyZegsg",
        "outputId": "c14f01f2-df46-487f-cd6c-6ae7c5bc113d"
      },
      "source": [
        "math.sin(3.14)"
      ],
      "execution_count": 3,
      "outputs": [
        {
          "output_type": "execute_result",
          "data": {
            "text/plain": [
              "0.0015926529164868282"
            ]
          },
          "metadata": {},
          "execution_count": 3
        }
      ]
    },
    {
      "cell_type": "code",
      "metadata": {
        "colab": {
          "base_uri": "https://localhost:8080/"
        },
        "id": "522y-dYmekfB",
        "outputId": "9d22e049-bb4d-4466-de26-071d70b8cb7f"
      },
      "source": [
        "math.log(1)"
      ],
      "execution_count": 4,
      "outputs": [
        {
          "output_type": "execute_result",
          "data": {
            "text/plain": [
              "0.0"
            ]
          },
          "metadata": {},
          "execution_count": 4
        }
      ]
    },
    {
      "cell_type": "code",
      "metadata": {
        "colab": {
          "base_uri": "https://localhost:8080/"
        },
        "id": "vmujsULZelsH",
        "outputId": "210a2368-6c85-456c-cd62-479c4533eb12"
      },
      "source": [
        "math.pi"
      ],
      "execution_count": 5,
      "outputs": [
        {
          "output_type": "execute_result",
          "data": {
            "text/plain": [
              "3.141592653589793"
            ]
          },
          "metadata": {},
          "execution_count": 5
        }
      ]
    },
    {
      "cell_type": "code",
      "metadata": {
        "id": "tu_aIJYkemk-"
      },
      "source": [
        "import os"
      ],
      "execution_count": 6,
      "outputs": []
    },
    {
      "cell_type": "code",
      "metadata": {
        "colab": {
          "base_uri": "https://localhost:8080/",
          "height": 35
        },
        "id": "SW-uRIXXenhf",
        "outputId": "46771e3d-4d25-43de-c7ae-ec0b0acd0df0"
      },
      "source": [
        "os.getcwd() #get current working directory"
      ],
      "execution_count": 7,
      "outputs": [
        {
          "output_type": "execute_result",
          "data": {
            "application/vnd.google.colaboratory.intrinsic+json": {
              "type": "string"
            },
            "text/plain": [
              "'/content'"
            ]
          },
          "metadata": {},
          "execution_count": 7
        }
      ]
    },
    {
      "cell_type": "code",
      "metadata": {
        "colab": {
          "base_uri": "https://localhost:8080/"
        },
        "id": "8g7as0IqepsR",
        "outputId": "d8fb7b85-48e3-49ea-ce8c-019537539c80"
      },
      "source": [
        "os.listdir()"
      ],
      "execution_count": 8,
      "outputs": [
        {
          "output_type": "execute_result",
          "data": {
            "text/plain": [
              "['.config', 'sample_data']"
            ]
          },
          "metadata": {},
          "execution_count": 8
        }
      ]
    },
    {
      "cell_type": "code",
      "metadata": {
        "colab": {
          "base_uri": "https://localhost:8080/",
          "height": 35
        },
        "id": "8wyy7FizevtO",
        "outputId": "ca3ad8bf-8775-4498-910e-d6bb80e5fe44"
      },
      "source": [
        "os.path.sep"
      ],
      "execution_count": 9,
      "outputs": [
        {
          "output_type": "execute_result",
          "data": {
            "application/vnd.google.colaboratory.intrinsic+json": {
              "type": "string"
            },
            "text/plain": [
              "'/'"
            ]
          },
          "metadata": {},
          "execution_count": 9
        }
      ]
    },
    {
      "cell_type": "code",
      "metadata": {
        "id": "XYlQzN5xfZyE"
      },
      "source": [
        "current_directory = os.getcwd()"
      ],
      "execution_count": 10,
      "outputs": []
    },
    {
      "cell_type": "code",
      "metadata": {
        "colab": {
          "base_uri": "https://localhost:8080/",
          "height": 35
        },
        "id": "iipc9rgnfi4A",
        "outputId": "2a2443b9-f4ec-45d3-a0a4-4413060d57f7"
      },
      "source": [
        "current_directory"
      ],
      "execution_count": 11,
      "outputs": [
        {
          "output_type": "execute_result",
          "data": {
            "application/vnd.google.colaboratory.intrinsic+json": {
              "type": "string"
            },
            "text/plain": [
              "'/content'"
            ]
          },
          "metadata": {},
          "execution_count": 11
        }
      ]
    },
    {
      "cell_type": "code",
      "metadata": {
        "id": "cX8ruj5qfkjw"
      },
      "source": [
        "# platform independent code"
      ],
      "execution_count": 12,
      "outputs": []
    },
    {
      "cell_type": "code",
      "metadata": {
        "colab": {
          "base_uri": "https://localhost:8080/"
        },
        "id": "vCEo8BOtf-Cg",
        "outputId": "7961b564-946b-42d7-e2ce-e0a967fb26e9"
      },
      "source": [
        "os.path.isdir(\"ABC\")  # / whenever path of file does not start with / on unix, c: on windows then the path is called as relative path"
      ],
      "execution_count": 13,
      "outputs": [
        {
          "output_type": "execute_result",
          "data": {
            "text/plain": [
              "False"
            ]
          },
          "metadata": {},
          "execution_count": 13
        }
      ]
    },
    {
      "cell_type": "code",
      "metadata": {
        "colab": {
          "base_uri": "https://localhost:8080/",
          "height": 166
        },
        "id": "3nhCEUgMgCTn",
        "outputId": "8bc4a489-b764-4458-cd3f-c2334cbc0afe"
      },
      "source": [
        "os.get.isdir() #absolute path"
      ],
      "execution_count": 14,
      "outputs": [
        {
          "output_type": "error",
          "ename": "AttributeError",
          "evalue": "ignored",
          "traceback": [
            "\u001b[0;31m---------------------------------------------------------------------------\u001b[0m",
            "\u001b[0;31mAttributeError\u001b[0m                            Traceback (most recent call last)",
            "\u001b[0;32m<ipython-input-14-b08f0b38a445>\u001b[0m in \u001b[0;36m<module>\u001b[0;34m()\u001b[0m\n\u001b[0;32m----> 1\u001b[0;31m \u001b[0mos\u001b[0m\u001b[0;34m.\u001b[0m\u001b[0mget\u001b[0m\u001b[0;34m.\u001b[0m\u001b[0misdir\u001b[0m\u001b[0;34m(\u001b[0m\u001b[0;34m)\u001b[0m \u001b[0;31m#absolute path\u001b[0m\u001b[0;34m\u001b[0m\u001b[0;34m\u001b[0m\u001b[0m\n\u001b[0m",
            "\u001b[0;31mAttributeError\u001b[0m: module 'os' has no attribute 'get'"
          ]
        }
      ]
    },
    {
      "cell_type": "code",
      "metadata": {
        "id": "HNUqxzJyg3G6"
      },
      "source": [
        "os.path.exists()"
      ],
      "execution_count": null,
      "outputs": []
    },
    {
      "cell_type": "code",
      "metadata": {
        "id": "FiUuw1Nug79M"
      },
      "source": [
        "# os.path.getsize() to get size"
      ],
      "execution_count": null,
      "outputs": []
    },
    {
      "cell_type": "code",
      "metadata": {
        "id": "X2bO7Vm-g_mj"
      },
      "source": [
        "def compute_foldersize(folderpath):\n",
        "    contents = os.listdir(folderpath)\n",
        "    total_size = 0\n",
        "    for file in conents:\n",
        "        path = os.path.sep.join([folderpath, file])\n",
        "        if os.path.isdir(path):\n",
        "            total_size += compute_foldersize(path)\n",
        "        else:\n",
        "            total_size += os.path.getsize(path)\n",
        "    return total_size"
      ],
      "execution_count": null,
      "outputs": []
    },
    {
      "cell_type": "code",
      "metadata": {
        "id": "kC--QbX7h0jZ"
      },
      "source": [
        "compute_foldersize(os.getcwd())"
      ],
      "execution_count": null,
      "outputs": []
    },
    {
      "cell_type": "markdown",
      "metadata": {
        "id": "AfA6R_-Gh61y"
      },
      "source": [
        "##Problems\n",
        "\n",
        "- Write a function to find all py files in given directory (not recursive)\n",
        "find_py->return list\n",
        "```\n",
        "find_py(\".\")\n",
        "[abc.py, def.py]\n",
        "```\n",
        "-Write a function to find_txt recursive to find all .txt files recursively\n",
        "```\n",
        "if txt file in folder then add that file\n",
        "os.walk() can also be used\n",
        "```\n"
      ]
    },
    {
      "cell_type": "code",
      "metadata": {
        "id": "-WdLI2GVh5K-"
      },
      "source": [
        "# Q1.\n",
        "def find_py(path):\n",
        "    files = os.listdir(path)\n",
        "    return [f for f in files if(os.path.splitext(f)[-1] == \".py\")]"
      ],
      "execution_count": null,
      "outputs": []
    },
    {
      "cell_type": "code",
      "metadata": {
        "id": "LgDI_VcDjdPZ"
      },
      "source": [
        "x = os.path.join(os.getcwd(),'files')\n",
        "find_py(x)"
      ],
      "execution_count": null,
      "outputs": []
    },
    {
      "cell_type": "markdown",
      "metadata": {
        "id": "5dVByQaBmMLI"
      },
      "source": [
        "### Writing your own modules\n",
        "Any python file (.py) in current working directory can be imported as python module. If the py file that you want to make use of is not in current working directory, then you set the folder path when the file is, as PYTHONPATH"
      ]
    },
    {
      "cell_type": "markdown",
      "metadata": {
        "id": "s7Yh2--YmQnf"
      },
      "source": [
        "How to write a text file from jupyter notebook"
      ]
    },
    {
      "cell_type": "code",
      "metadata": {
        "id": "JCXTasLTjf2Q"
      },
      "source": [
        "%%file hello.py\n",
        "import sys\n",
        "\"\"\"\n",
        "This is python file written from jupyter notebook\n",
        "\"\"\"\n",
        "def say_hello(name):\n",
        "    print(\"Hello\", name.capitalize())\n",
        "name = sys.argv[1]\n",
        "say_hello(name)"
      ],
      "execution_count": null,
      "outputs": []
    },
    {
      "cell_type": "markdown",
      "metadata": {
        "id": "lqQFpBMamcD-"
      },
      "source": [
        "### How to run command from jupyter notebook \n",
        "```\n",
        "!python hello.py *pccoe*\n",
        "```"
      ]
    },
    {
      "cell_type": "code",
      "metadata": {
        "id": "JTpaAomCl3_G"
      },
      "source": [
        "!python hello.py pccoe"
      ],
      "execution_count": null,
      "outputs": []
    },
    {
      "cell_type": "markdown",
      "metadata": {
        "id": "vX1QYQC9m5d0"
      },
      "source": [
        "### Module and Script at a time"
      ]
    },
    {
      "cell_type": "code",
      "metadata": {
        "id": "hxxWunwjm0lV"
      },
      "source": [
        "import hello"
      ],
      "execution_count": null,
      "outputs": []
    },
    {
      "cell_type": "code",
      "metadata": {
        "id": "zR09yv7jm_60"
      },
      "source": [
        "%%file fib.py\n",
        "\n",
        "import sys\n",
        "\n",
        "def fib(n):\n",
        "    \"\"\"Find nth fibonacci number\n",
        "    \"\"\"\n",
        "    curr, prev = 1, 1\n",
        "    count = 1\n",
        "    while count < n:\n",
        "        curr, prev = curr+prev, curr\n",
        "        count += 1\n",
        "    return curr\n",
        "\n",
        "n = int(sys.argv[1])\n",
        "print(fib(n))"
      ],
      "execution_count": null,
      "outputs": []
    },
    {
      "cell_type": "code",
      "metadata": {
        "id": "s13rFcIvnxJ9"
      },
      "source": [
        "!python fib.py 10"
      ],
      "execution_count": null,
      "outputs": []
    },
    {
      "cell_type": "code",
      "metadata": {
        "id": "7VZfOXAknzfT"
      },
      "source": [
        "%%file fib1.py\n",
        "\n",
        "import sys\n",
        "\n",
        "def fib(n):\n",
        "    \"\"\"Find nth fibonacci number\n",
        "    \"\"\"\n",
        "    curr, prev = 1, 1\n",
        "    count = 1\n",
        "    while count < n:\n",
        "        curr, prev = curr+prev, curr\n",
        "        count += 1\n",
        "    return curr\n",
        "print(__name__)\n",
        "# n = int(sys.argv[1])\n",
        "# print(fib(n))"
      ],
      "execution_count": null,
      "outputs": []
    },
    {
      "cell_type": "code",
      "metadata": {
        "id": "o8s5lIpWo5bI"
      },
      "source": [
        "!python fib1.py"
      ],
      "execution_count": null,
      "outputs": []
    },
    {
      "cell_type": "code",
      "metadata": {
        "id": "0Dqfl8npo7xw"
      },
      "source": [
        "import fib1"
      ],
      "execution_count": null,
      "outputs": []
    },
    {
      "cell_type": "code",
      "metadata": {
        "id": "-ZnoXrv4pC5H"
      },
      "source": [
        "%%file fib2.py\n",
        "\n",
        "import sys\n",
        "\n",
        "\n",
        "def fib(n):\n",
        "    \"\"\"Find nth fibonacci number\n",
        "    \"\"\"\n",
        "    curr, prev = 1, 1\n",
        "    count = 1\n",
        "    while count < n:\n",
        "        curr, prev = curr+prev, curr\n",
        "        count += 1\n",
        "    return curr\n",
        "\n",
        "if __name__ == \"__main__\":\n",
        "    n = int(sys.argv[1])\n",
        "    print(fib(n))"
      ],
      "execution_count": null,
      "outputs": []
    },
    {
      "cell_type": "code",
      "metadata": {
        "id": "j9VjpWSLpO1u"
      },
      "source": [
        "!python fib2.py 6"
      ],
      "execution_count": null,
      "outputs": []
    },
    {
      "cell_type": "code",
      "metadata": {
        "id": "SwuqdmkEpXnS"
      },
      "source": [
        "import fib2"
      ],
      "execution_count": null,
      "outputs": []
    },
    {
      "cell_type": "code",
      "metadata": {
        "id": "eG5lVEsFpZCS"
      },
      "source": [
        "fib2.fib(10)"
      ],
      "execution_count": null,
      "outputs": []
    },
    {
      "cell_type": "markdown",
      "metadata": {
        "id": "nbDJNpTkp4DX"
      },
      "source": [
        "### Problems\n",
        "- Write a python script and a module which takes multiple numbers from commandline and finds sum of thos numbers.\n",
        "```\n",
        "!python mysum.py 1 2 3 4 5\n",
        ">>> import mysum\n",
        "```"
      ]
    },
    {
      "cell_type": "code",
      "metadata": {
        "id": "7Yq0e3UppeZH"
      },
      "source": [
        "%%file mysum.py\n",
        "import sys\n",
        "def find_sum(s):\n",
        "    x = list(s.split(\" \"))\n",
        "    return sum([int(i) for i in x])\n",
        "\n",
        "if __name__ == \"__main__\":\n",
        "    x = str(sys.argv)\n",
        "    find_sum(x)"
      ],
      "execution_count": null,
      "outputs": []
    },
    {
      "cell_type": "code",
      "metadata": {
        "id": "htgh9NuVrXWL"
      },
      "source": [
        "!python mysum.py 1 4 67 8"
      ],
      "execution_count": null,
      "outputs": []
    },
    {
      "cell_type": "code",
      "metadata": {
        "id": "-phOdtC-ra_v"
      },
      "source": [
        "%%file mysum.py\n",
        "import sys \n",
        "\n",
        "def mysum(*args):\n",
        "    return sum(args)\n",
        "\n",
        "def to_int(strnums):\n",
        "    return [int(strn) for strn in strnums]\n",
        "\n",
        "if __name__ == \"__main__\":\n",
        "    r = mysum(*to_int(sys.argv[1:]))\n",
        "    print(r)"
      ],
      "execution_count": null,
      "outputs": []
    },
    {
      "cell_type": "code",
      "metadata": {
        "id": "SVvaYVN_usSC"
      },
      "source": [
        "!python mysum.py 1 2 3 4 5"
      ],
      "execution_count": null,
      "outputs": []
    },
    {
      "cell_type": "code",
      "metadata": {
        "id": "poHIlOSCuvQc"
      },
      "source": [
        "import mysum"
      ],
      "execution_count": null,
      "outputs": []
    },
    {
      "cell_type": "code",
      "metadata": {
        "id": "Ak_b6BXKu1s6"
      },
      "source": [
        "mysum.mysum(1, 2, 3,4 \n",
        "            )"
      ],
      "execution_count": null,
      "outputs": []
    },
    {
      "cell_type": "markdown",
      "metadata": {
        "id": "vGLBw2Eru5VF"
      },
      "source": [
        "### String formating"
      ]
    },
    {
      "cell_type": "code",
      "metadata": {
        "id": "_9av5-tru4W7"
      },
      "source": [
        "for i in range(1, 11):\n",
        "    print(i, i**2, i**3)"
      ],
      "execution_count": null,
      "outputs": []
    },
    {
      "cell_type": "code",
      "metadata": {
        "id": "tR3migyMvAMv"
      },
      "source": [
        "for i in range(1, 11):\n",
        "    print(str(i).rjust(2),str(i**2).rjust(3), str(i**3).rjust(4))"
      ],
      "execution_count": null,
      "outputs": []
    },
    {
      "cell_type": "code",
      "metadata": {
        "id": "oJ9xsZMQvdN4"
      },
      "source": [
        "\"Answer to {} is {}\".format(10, 30)"
      ],
      "execution_count": null,
      "outputs": []
    },
    {
      "cell_type": "code",
      "metadata": {
        "id": "HKzf3CvTvv26"
      },
      "source": [
        "\"Answer to {1} is {0}\".format(\"life\", 45)"
      ],
      "execution_count": null,
      "outputs": []
    },
    {
      "cell_type": "code",
      "metadata": {
        "id": "TTh0oMh5v6wQ"
      },
      "source": [
        "\"Wizard of {place} is {name}\".format(place=\"oz\",name=\"py\")"
      ],
      "execution_count": null,
      "outputs": []
    },
    {
      "cell_type": "markdown",
      "metadata": {
        "id": "8h9n6pTsyTTn"
      },
      "source": [
        "### Problems\n",
        "- Write a function to pretty print a triangle of stars.\n",
        "```\n",
        ">>> pretty_print(6)\n",
        "      *\n",
        "     * *\n",
        "    * * *\n",
        "   * * * *\n",
        "  * * * * *\n",
        " * * * * * *\n",
        "```\n",
        "- Write a function to print pascal triangle like above stars"
      ]
    },
    {
      "cell_type": "code",
      "metadata": {
        "id": "5gidircQwP-V"
      },
      "source": [
        "def pretty_print(n):\n",
        "    for i in range(n+1):\n",
        "        ch = \" * \"*i \n",
        "        print(\"{}\".format(ch.center(100)))"
      ],
      "execution_count": 16,
      "outputs": []
    },
    {
      "cell_type": "code",
      "metadata": {
        "colab": {
          "base_uri": "https://localhost:8080/"
        },
        "id": "arIewPdhC2Sl",
        "outputId": "b51fe81c-0c5e-4bbb-ecda-e50545cd6b73"
      },
      "source": [
        "pretty_print(10)"
      ],
      "execution_count": 17,
      "outputs": [
        {
          "output_type": "stream",
          "name": "stdout",
          "text": [
            "                                                                                                    \n",
            "                                                 *                                                  \n",
            "                                                *  *                                                \n",
            "                                              *  *  *                                               \n",
            "                                             *  *  *  *                                             \n",
            "                                           *  *  *  *  *                                            \n",
            "                                          *  *  *  *  *  *                                          \n",
            "                                        *  *  *  *  *  *  *                                         \n",
            "                                       *  *  *  *  *  *  *  *                                       \n",
            "                                     *  *  *  *  *  *  *  *  *                                      \n",
            "                                    *  *  *  *  *  *  *  *  *  *                                    \n"
          ]
        }
      ]
    },
    {
      "cell_type": "code",
      "metadata": {
        "id": "C94G70puC4WF"
      },
      "source": [
        "# Q1.\n",
        "def make_triangle(n):\n",
        "    return [\"*\"*row for row in range(1,n+1)]"
      ],
      "execution_count": 23,
      "outputs": []
    },
    {
      "cell_type": "code",
      "metadata": {
        "id": "1muoYjnKk7cj",
        "colab": {
          "base_uri": "https://localhost:8080/"
        },
        "outputId": "d48baab2-0b1d-4a49-c7f7-5d8bae75b968"
      },
      "source": [
        "make_triangle(5)"
      ],
      "execution_count": 24,
      "outputs": [
        {
          "output_type": "execute_result",
          "data": {
            "text/plain": [
              "['*', '**', '***', '****', '*****']"
            ]
          },
          "metadata": {},
          "execution_count": 24
        }
      ]
    },
    {
      "cell_type": "code",
      "metadata": {
        "id": "TYaMqQ1jyX3k"
      },
      "source": [
        "def pretty_print(triangle):\n",
        "    return len(triangle[-1])\n",
        "    for row in triangle:\n",
        "        print(row.center(width))"
      ],
      "execution_count": 25,
      "outputs": []
    },
    {
      "cell_type": "code",
      "metadata": {
        "colab": {
          "base_uri": "https://localhost:8080/"
        },
        "id": "sQOqsCccwuX2",
        "outputId": "9cef8611-4154-496b-f52b-59ca6a00fe2c"
      },
      "source": [
        "pretty_print(make_triangle(10))"
      ],
      "execution_count": 26,
      "outputs": [
        {
          "output_type": "execute_result",
          "data": {
            "text/plain": [
              "10"
            ]
          },
          "metadata": {},
          "execution_count": 26
        }
      ]
    },
    {
      "cell_type": "code",
      "metadata": {
        "id": "B5lSwRmRw4nS"
      },
      "source": [
        "def format_row(row):\n",
        "    return \" \".join(list(row))\n",
        "    \n",
        "def pretty_print(triangle):\n",
        "    base = len(triangle[-1])\n",
        "    width = base + base - 1\n",
        "    for row in triangle:\n",
        "        row_ = format_row(row)"
      ],
      "execution_count": 27,
      "outputs": []
    },
    {
      "cell_type": "markdown",
      "metadata": {
        "id": "DWhlhSkix1tN"
      },
      "source": [
        "### Pasal Triangle\n",
        "```\n",
        "            1\n",
        "        1       1\n",
        "    1      2         1\n",
        "\n",
        "\n",
        "```"
      ]
    },
    {
      "cell_type": "code",
      "metadata": {
        "id": "VJIz45tQxjh3"
      },
      "source": [
        "def pascal(n):\n",
        "    \"\"\"\n",
        "    >>>> pascal(1)\n",
        "    [[1]]\n",
        "    >>>> pascal(5)\n",
        "    [[1],[1,1],[1,2,1],[1,3,3,1],[1,4,6,4,1]]\n",
        "    \"\"\"\n",
        "    pass"
      ],
      "execution_count": 28,
      "outputs": []
    },
    {
      "cell_type": "markdown",
      "metadata": {
        "id": "gNJI-CKc1Wzj"
      },
      "source": [
        "```\n",
        "[1, 4, 6, 4, 1]\n",
        "[1, 1 + 4, 4 + 6, 6 + 4, 4+1, 1]\n",
        "```"
      ]
    },
    {
      "cell_type": "code",
      "metadata": {
        "id": "cuInApR4zAp4"
      },
      "source": [
        "def find_running_sum(items):\n",
        "    r_s = []\n",
        "    for i, item in enumerate(items[:-1]):\n",
        "        r_s.append(item + items[i+1])\n",
        "    return r_s\n",
        "\n",
        "def find_next_row(row):\n",
        "    running_sum = find_running_sum(row)\n",
        "    return [1] + running_sum + [1]\n",
        "\n",
        "def sum_shifted_rows(row):\n",
        "    first = row + [0]\n",
        "    second = [0] + row\n",
        "    return [a+b for a, b in zip(first,second)]"
      ],
      "execution_count": 53,
      "outputs": []
    },
    {
      "cell_type": "code",
      "metadata": {
        "colab": {
          "base_uri": "https://localhost:8080/"
        },
        "id": "i4iKEmoqz5HG",
        "outputId": "417e19c4-84ef-4e42-fa19-a9a975cd01bf"
      },
      "source": [
        "find_running_sum([1,3,3,1])"
      ],
      "execution_count": 54,
      "outputs": [
        {
          "output_type": "execute_result",
          "data": {
            "text/plain": [
              "[4, 6, 4]"
            ]
          },
          "metadata": {},
          "execution_count": 54
        }
      ]
    },
    {
      "cell_type": "code",
      "metadata": {
        "id": "53ReDq4_2Wrp"
      },
      "source": [
        "def pascal(n):\n",
        "\n",
        "    tr = [[1]]\n",
        "\n",
        "    for i in range(n-1):\n",
        "        tr.append(find_next_row(tr[-1]))\n",
        "    return tr"
      ],
      "execution_count": 57,
      "outputs": []
    },
    {
      "cell_type": "code",
      "metadata": {
        "colab": {
          "base_uri": "https://localhost:8080/"
        },
        "id": "14Ic4rSM6_yR",
        "outputId": "052ca9da-7a97-4dc0-943f-163739fb3594"
      },
      "source": [
        "pascal(4)"
      ],
      "execution_count": 58,
      "outputs": [
        {
          "output_type": "execute_result",
          "data": {
            "text/plain": [
              "[[1], [1, 1], [1, 2, 1], [1, 3, 3, 1]]"
            ]
          },
          "metadata": {},
          "execution_count": 58
        }
      ]
    },
    {
      "cell_type": "code",
      "metadata": {
        "id": "pixmZXtO72l-"
      },
      "source": [
        ""
      ],
      "execution_count": null,
      "outputs": []
    }
  ]
}