{
  "nbformat": 4,
  "nbformat_minor": 0,
  "metadata": {
    "colab": {
      "name": "oops.ipynb",
      "provenance": [],
      "collapsed_sections": []
    },
    "kernelspec": {
      "display_name": "Python 3",
      "name": "python3"
    },
    "language_info": {
      "name": "python"
    }
  },
  "cells": [
    {
      "cell_type": "markdown",
      "metadata": {
        "id": "xe8A_mJkie5M"
      },
      "source": [
        "#Object Oriented Programming"
      ]
    },
    {
      "cell_type": "code",
      "metadata": {
        "colab": {
          "base_uri": "https://localhost:8080/",
          "height": 35
        },
        "id": "DmE2gf8Oinuf",
        "outputId": "c788e839-dd65-4a30-c458-52cb3eb8678f"
      },
      "source": [
        "%autosave 5"
      ],
      "execution_count": 1,
      "outputs": [
        {
          "output_type": "display_data",
          "data": {
            "application/javascript": [
              "IPython.notebook.set_autosave_interval(5000)"
            ]
          },
          "metadata": {}
        },
        {
          "output_type": "stream",
          "name": "stdout",
          "text": [
            "Autosaving every 5 seconds\n"
          ]
        }
      ]
    },
    {
      "cell_type": "code",
      "metadata": {
        "colab": {
          "base_uri": "https://localhost:8080/"
        },
        "id": "1ipAtJWylUkZ",
        "outputId": "8860843c-0f81-488b-8391-873adc640125"
      },
      "source": [
        "%%file bank.py\n",
        "\n",
        "balance = 0\n",
        "\n",
        "def withdraw(amount):\n",
        "    global balance\n",
        "    balance -= amount\n",
        "\n",
        "def get_balance():\n",
        "    return balance \n",
        "\n",
        "if __name__ == '__main__':\n",
        "    pass"
      ],
      "execution_count": 2,
      "outputs": [
        {
          "output_type": "stream",
          "name": "stdout",
          "text": [
            "Writing bank.py\n"
          ]
        }
      ]
    },
    {
      "cell_type": "code",
      "metadata": {
        "id": "Vi25K3nFlatr"
      },
      "source": [
        "import bank"
      ],
      "execution_count": 3,
      "outputs": []
    },
    {
      "cell_type": "code",
      "metadata": {
        "colab": {
          "base_uri": "https://localhost:8080/"
        },
        "id": "wphyANPSl-PI",
        "outputId": "a9d1ff02-cede-4a69-ce4e-11aa8094db94"
      },
      "source": [
        "bank.get_balance()"
      ],
      "execution_count": 4,
      "outputs": [
        {
          "output_type": "execute_result",
          "data": {
            "text/plain": [
              "0"
            ]
          },
          "metadata": {},
          "execution_count": 4
        }
      ]
    },
    {
      "cell_type": "code",
      "metadata": {
        "colab": {
          "base_uri": "https://localhost:8080/",
          "height": 166
        },
        "id": "imINmzfDmA_U",
        "outputId": "1e863bc5-351b-4c3f-85a4-47cc230e527e"
      },
      "source": [
        "bank.deposit(2000)"
      ],
      "execution_count": 5,
      "outputs": [
        {
          "output_type": "error",
          "ename": "AttributeError",
          "evalue": "ignored",
          "traceback": [
            "\u001b[0;31m---------------------------------------------------------------------------\u001b[0m",
            "\u001b[0;31mAttributeError\u001b[0m                            Traceback (most recent call last)",
            "\u001b[0;32m<ipython-input-5-067399190cc6>\u001b[0m in \u001b[0;36m<module>\u001b[0;34m()\u001b[0m\n\u001b[0;32m----> 1\u001b[0;31m \u001b[0mbank\u001b[0m\u001b[0;34m.\u001b[0m\u001b[0mdeposit\u001b[0m\u001b[0;34m(\u001b[0m\u001b[0;36m2000\u001b[0m\u001b[0;34m)\u001b[0m\u001b[0;34m\u001b[0m\u001b[0;34m\u001b[0m\u001b[0m\n\u001b[0m",
            "\u001b[0;31mAttributeError\u001b[0m: module 'bank' has no attribute 'deposit'"
          ]
        }
      ]
    },
    {
      "cell_type": "code",
      "metadata": {
        "id": "c5B2Z3yLmDlj"
      },
      "source": [
        "class BankAccount:\n",
        "\n",
        "    def __init__(self, balance): #strong convention that it should be name self\n",
        "        self.balance = balance \n",
        "        # this is something like constructor main method to create instance\n",
        "\n",
        "    def get_balance(self):\n",
        "        return self.balance\n",
        "    \n",
        "    def withdraw(self, amount):\n",
        "        self.balace -= amount\n",
        "    \n",
        "    def deposit(self, amount):\n",
        "        self.balance += amount"
      ],
      "execution_count": 6,
      "outputs": []
    },
    {
      "cell_type": "code",
      "metadata": {
        "colab": {
          "base_uri": "https://localhost:8080/"
        },
        "id": "PXl7oZnhpcIy",
        "outputId": "be6fb9f8-2077-44b0-f320-e247d116bc45"
      },
      "source": [
        "BankAccount"
      ],
      "execution_count": 7,
      "outputs": [
        {
          "output_type": "execute_result",
          "data": {
            "text/plain": [
              "__main__.BankAccount"
            ]
          },
          "metadata": {},
          "execution_count": 7
        }
      ]
    },
    {
      "cell_type": "code",
      "metadata": {
        "id": "NhzLjbhSpc9Y"
      },
      "source": [
        "b1 = BankAccount(20000) # when you call class like function .. it actually invokes __init__ method"
      ],
      "execution_count": 8,
      "outputs": []
    },
    {
      "cell_type": "code",
      "metadata": {
        "colab": {
          "base_uri": "https://localhost:8080/"
        },
        "id": "NOYLOFkipgff",
        "outputId": "20ac8976-0196-486b-b2ea-ad0113eccfbd"
      },
      "source": [
        "b1.get_balance()"
      ],
      "execution_count": 9,
      "outputs": [
        {
          "output_type": "execute_result",
          "data": {
            "text/plain": [
              "20000"
            ]
          },
          "metadata": {},
          "execution_count": 9
        }
      ]
    },
    {
      "cell_type": "code",
      "metadata": {
        "id": "QpYuhS_yqFRY"
      },
      "source": [
        "b1.deposit(2234)"
      ],
      "execution_count": 10,
      "outputs": []
    },
    {
      "cell_type": "code",
      "metadata": {
        "colab": {
          "base_uri": "https://localhost:8080/"
        },
        "id": "dRdutbvIqLBP",
        "outputId": "62ff1325-22d8-4a5c-a393-45b947a593d3"
      },
      "source": [
        "b1.get_balance()"
      ],
      "execution_count": 11,
      "outputs": [
        {
          "output_type": "execute_result",
          "data": {
            "text/plain": [
              "22234"
            ]
          },
          "metadata": {},
          "execution_count": 11
        }
      ]
    },
    {
      "cell_type": "code",
      "metadata": {
        "id": "foO6-8zxqM6-"
      },
      "source": [
        "class foo:\n",
        "\n",
        "    def method():\n",
        "        print(\"Hell\")\n",
        "\n"
      ],
      "execution_count": 12,
      "outputs": []
    },
    {
      "cell_type": "code",
      "metadata": {
        "id": "amJHMyhiq2ps"
      },
      "source": [
        "f = foo()"
      ],
      "execution_count": 13,
      "outputs": []
    },
    {
      "cell_type": "code",
      "metadata": {
        "colab": {
          "base_uri": "https://localhost:8080/",
          "height": 166
        },
        "id": "wE9fE9pAq4iR",
        "outputId": "437082aa-048d-40ba-c366-ae1c0d1fc50e"
      },
      "source": [
        "f.method()"
      ],
      "execution_count": 14,
      "outputs": [
        {
          "output_type": "error",
          "ename": "TypeError",
          "evalue": "ignored",
          "traceback": [
            "\u001b[0;31m---------------------------------------------------------------------------\u001b[0m",
            "\u001b[0;31mTypeError\u001b[0m                                 Traceback (most recent call last)",
            "\u001b[0;32m<ipython-input-14-05dc94509d19>\u001b[0m in \u001b[0;36m<module>\u001b[0;34m()\u001b[0m\n\u001b[0;32m----> 1\u001b[0;31m \u001b[0mf\u001b[0m\u001b[0;34m.\u001b[0m\u001b[0mmethod\u001b[0m\u001b[0;34m(\u001b[0m\u001b[0;34m)\u001b[0m\u001b[0;34m\u001b[0m\u001b[0;34m\u001b[0m\u001b[0m\n\u001b[0m",
            "\u001b[0;31mTypeError\u001b[0m: method() takes 0 positional arguments but 1 was given"
          ]
        }
      ]
    },
    {
      "cell_type": "code",
      "metadata": {
        "id": "V3NFSszLq6RC"
      },
      "source": [
        "class Point:\n",
        "    def __init__(self, x, y):\n",
        "        self.x = x\n",
        "        self.y = y\n",
        "    "
      ],
      "execution_count": 15,
      "outputs": []
    },
    {
      "cell_type": "code",
      "metadata": {
        "id": "lpq8rjXLr2Td"
      },
      "source": [
        "p1 = Point(3,4)"
      ],
      "execution_count": 16,
      "outputs": []
    },
    {
      "cell_type": "code",
      "metadata": {
        "id": "IWkngQ3Rr4Wa"
      },
      "source": [
        "import math\n",
        "class Vector:\n",
        "\n",
        "    def __init__(self, poin1, point2):\n",
        "        self.start = poin1\n",
        "        self.end = point2\n",
        "\n",
        "    def magnitude(self):\n",
        "        xoffset = self.end.x - self.start.x\n",
        "        yoffset = self.end.y - self.start.y\n",
        "        return math.sqrt(xoffset**2+yoffset**2)"
      ],
      "execution_count": 17,
      "outputs": []
    },
    {
      "cell_type": "code",
      "metadata": {
        "id": "v-kQDv0lsjHq"
      },
      "source": [
        "origin = Point(0,0)\n",
        "x1 = Point(1,0)"
      ],
      "execution_count": 18,
      "outputs": []
    },
    {
      "cell_type": "code",
      "metadata": {
        "id": "x8H8YZTIsob9"
      },
      "source": [
        "xunit = Vector(origin, x1)"
      ],
      "execution_count": 19,
      "outputs": []
    },
    {
      "cell_type": "code",
      "metadata": {
        "id": "A37N2qOusrAD",
        "colab": {
          "base_uri": "https://localhost:8080/"
        },
        "outputId": "85088e4f-db15-4bf1-84a7-9c298f4e3312"
      },
      "source": [
        "xunit.magnitude()"
      ],
      "execution_count": 20,
      "outputs": [
        {
          "output_type": "execute_result",
          "data": {
            "text/plain": [
              "1.0"
            ]
          },
          "metadata": {},
          "execution_count": 20
        }
      ]
    },
    {
      "cell_type": "code",
      "metadata": {
        "id": "NpWKgitlswcS"
      },
      "source": [
        "class foo:\n",
        "\n",
        "    def __init__(self,a,b):\n",
        "        self.a = a #convention is anything that does not start with _ is public\n",
        "        self.b = b"
      ],
      "execution_count": 21,
      "outputs": []
    },
    {
      "cell_type": "code",
      "metadata": {
        "id": "rgUMMsi8tOsg"
      },
      "source": [
        "f = foo(3,6)"
      ],
      "execution_count": 22,
      "outputs": []
    },
    {
      "cell_type": "code",
      "metadata": {
        "colab": {
          "base_uri": "https://localhost:8080/"
        },
        "id": "t2BhVzqmtRSD",
        "outputId": "87707ab4-d2f5-4e78-9fec-18d21b4d55b1"
      },
      "source": [
        "f.a"
      ],
      "execution_count": 23,
      "outputs": [
        {
          "output_type": "execute_result",
          "data": {
            "text/plain": [
              "3"
            ]
          },
          "metadata": {},
          "execution_count": 23
        }
      ]
    },
    {
      "cell_type": "code",
      "metadata": {
        "colab": {
          "base_uri": "https://localhost:8080/"
        },
        "id": "iM72lQIttR_l",
        "outputId": "8ab69af5-a56f-402e-b137-d637153ba21b"
      },
      "source": [
        "f.b"
      ],
      "execution_count": 24,
      "outputs": [
        {
          "output_type": "execute_result",
          "data": {
            "text/plain": [
              "6"
            ]
          },
          "metadata": {},
          "execution_count": 24
        }
      ]
    },
    {
      "cell_type": "code",
      "metadata": {
        "id": "F0e2Zpv0tVcD"
      },
      "source": [
        "class Foobar:\n",
        "    def __init__(self, a, b):\n",
        "        self.a = a\n",
        "        self.b = b\n",
        "        self._c = a+b"
      ],
      "execution_count": 25,
      "outputs": []
    },
    {
      "cell_type": "code",
      "metadata": {
        "id": "9oIBEbpJtbBt"
      },
      "source": [
        "\n",
        "fb =Foobar(233,455)"
      ],
      "execution_count": 26,
      "outputs": []
    },
    {
      "cell_type": "code",
      "metadata": {
        "colab": {
          "base_uri": "https://localhost:8080/"
        },
        "id": "dtOwfH5FtjH7",
        "outputId": "bde2ab1e-57b0-4bc0-d492-6e2235ab1bc1"
      },
      "source": [
        "fb.a"
      ],
      "execution_count": 27,
      "outputs": [
        {
          "output_type": "execute_result",
          "data": {
            "text/plain": [
              "233"
            ]
          },
          "metadata": {},
          "execution_count": 27
        }
      ]
    },
    {
      "cell_type": "code",
      "metadata": {
        "colab": {
          "base_uri": "https://localhost:8080/"
        },
        "id": "T95UTdtNtkBM",
        "outputId": "a179c3e2-84bb-47e5-e625-dc62ac34008b"
      },
      "source": [
        "fb.b"
      ],
      "execution_count": 28,
      "outputs": [
        {
          "output_type": "execute_result",
          "data": {
            "text/plain": [
              "455"
            ]
          },
          "metadata": {},
          "execution_count": 28
        }
      ]
    },
    {
      "cell_type": "code",
      "metadata": {
        "colab": {
          "base_uri": "https://localhost:8080/"
        },
        "id": "5ho63e2itlb2",
        "outputId": "5baf015c-8454-4605-a6a2-dfdf87349577"
      },
      "source": [
        "fb._c"
      ],
      "execution_count": 29,
      "outputs": [
        {
          "output_type": "execute_result",
          "data": {
            "text/plain": [
              "688"
            ]
          },
          "metadata": {},
          "execution_count": 29
        }
      ]
    },
    {
      "cell_type": "code",
      "metadata": {
        "id": "edaKAECKtnQ1"
      },
      "source": [
        "class Point:\n",
        "\n",
        "    def __init__(self, x , y):\n",
        "        self.x = x\n",
        "        self.y = y\n",
        "    \n",
        "    def __repr__(self):\n",
        "        return f\"Point({self.x, self.y})\"\n",
        "    \n",
        "    def __str__(self):\n",
        "        return f\"<{self.x}, {self.y}>\""
      ],
      "execution_count": 30,
      "outputs": []
    },
    {
      "cell_type": "code",
      "metadata": {
        "id": "sWVisYZGvygc"
      },
      "source": [
        "p = Point(3,4)"
      ],
      "execution_count": 31,
      "outputs": []
    },
    {
      "cell_type": "code",
      "metadata": {
        "colab": {
          "base_uri": "https://localhost:8080/"
        },
        "id": "ADPTDfmovzuC",
        "outputId": "b4667317-712e-41a6-9f50-e2c1f89c78b7"
      },
      "source": [
        "p # repr called"
      ],
      "execution_count": 32,
      "outputs": [
        {
          "output_type": "execute_result",
          "data": {
            "text/plain": [
              "Point((3, 4))"
            ]
          },
          "metadata": {},
          "execution_count": 32
        }
      ]
    },
    {
      "cell_type": "code",
      "metadata": {
        "colab": {
          "base_uri": "https://localhost:8080/"
        },
        "id": "eMCwxAtgwBSv",
        "outputId": "93ae0250-5155-4c2a-8d17-96ec531507f4"
      },
      "source": [
        "print(p)"
      ],
      "execution_count": 33,
      "outputs": [
        {
          "output_type": "stream",
          "name": "stdout",
          "text": [
            "<3, 4>\n"
          ]
        }
      ]
    },
    {
      "cell_type": "markdown",
      "metadata": {
        "id": "Mz1AMQiVwYbR"
      },
      "source": [
        "###problem\n",
        "- Write a class to model light. it should have status (on/ off) in every instance and it should have methods to switch on and switch off"
      ]
    },
    {
      "cell_type": "code",
      "metadata": {
        "id": "yrouCSmBwMZ1"
      },
      "source": [
        "class Light:\n",
        "    \n",
        "    def __init__(self):\n",
        "        self.status = 0\n",
        "\n",
        "    def swithch_on(self):\n",
        "        self.status = 1\n",
        "\n",
        "    def switch_off(self):\n",
        "        self.status = 0\n",
        "    \n",
        "    def __repr__(self):\n",
        "        s = \"on\" if self.status else \"off\"\n",
        "        return f\"Light Status <{self.status}>\"\n",
        "\n",
        "if __name__ == \"__main__\":\n",
        "    pass    "
      ],
      "execution_count": 34,
      "outputs": []
    },
    {
      "cell_type": "code",
      "metadata": {
        "id": "i63BK6t5oWOK"
      },
      "source": [
        "l1 = Light()"
      ],
      "execution_count": 36,
      "outputs": []
    },
    {
      "cell_type": "code",
      "metadata": {
        "colab": {
          "base_uri": "https://localhost:8080/"
        },
        "id": "MKdO2GEbn2fG",
        "outputId": "762a483c-6820-4009-a829-af44aa21603a"
      },
      "source": [
        "l1"
      ],
      "execution_count": 37,
      "outputs": [
        {
          "output_type": "execute_result",
          "data": {
            "text/plain": [
              "Light Status <0>"
            ]
          },
          "metadata": {},
          "execution_count": 37
        }
      ]
    },
    {
      "cell_type": "code",
      "metadata": {
        "colab": {
          "base_uri": "https://localhost:8080/"
        },
        "id": "UMG3EA7gjnCT",
        "outputId": "4c93ef77-b015-4b85-82f4-40dbafdb7919"
      },
      "source": [
        "print(l1)"
      ],
      "execution_count": 38,
      "outputs": [
        {
          "output_type": "stream",
          "name": "stdout",
          "text": [
            "Light Status <0>\n"
          ]
        }
      ]
    },
    {
      "cell_type": "code",
      "metadata": {
        "id": "4y6ZLcpojpvb"
      },
      "source": [
        "class Point:\n",
        "\n",
        "    def __init__(self, x, y):\n",
        "        self.x = x\n",
        "        self.y = y\n",
        "    \n",
        "    def __repr__(self):\n",
        "        return f\"{self.x}, {self.y}\"\n",
        "\n",
        "import math\n",
        "class Vector:\n",
        "\n",
        "    def __init__(self, point1, point2):\n",
        "        self.start = point1 #this is instance of point passed\n",
        "        self.end = point2\n",
        "    \n",
        "    def magnitude(self):\n",
        "        xoffset = self.end.x - self.start.x\n",
        "        yoffset = self.end.y - self.start.y\n",
        "\n",
        "        return math.sqrt(xoffset**2 + yoffset**2)\n",
        "    \n",
        "    def __add__(self, vector2):\n",
        "        p1 = Point(self.start.x + vector2.start.x, self.start.y + vector2.start.y)\n",
        "        p2 = Point(self.end.x + vector2.end.x, self.end.y + vector2.end.y)\n",
        "\n",
        "        return Vector(p1, p2)\n",
        "    \n",
        "    def __repr__(self):\n",
        "        return f'Vector<{self.magnitude()}>'"
      ],
      "execution_count": 39,
      "outputs": []
    },
    {
      "cell_type": "code",
      "metadata": {
        "id": "YLCY2VIllQ2M"
      },
      "source": [
        "s = \"hello\""
      ],
      "execution_count": 40,
      "outputs": []
    },
    {
      "cell_type": "code",
      "metadata": {
        "colab": {
          "base_uri": "https://localhost:8080/",
          "height": 35
        },
        "id": "9UxPkPb-lSlQ",
        "outputId": "06e78178-ae0e-40f1-a053-efc4252077c5"
      },
      "source": [
        "s + \"world\""
      ],
      "execution_count": 41,
      "outputs": [
        {
          "output_type": "execute_result",
          "data": {
            "application/vnd.google.colaboratory.intrinsic+json": {
              "type": "string"
            },
            "text/plain": [
              "'helloworld'"
            ]
          },
          "metadata": {},
          "execution_count": 41
        }
      ]
    },
    {
      "cell_type": "code",
      "metadata": {
        "id": "bYmre4Y-lUe0"
      },
      "source": [
        "v1 = Vector(Point(0, 0), Point(0, 1))"
      ],
      "execution_count": 42,
      "outputs": []
    },
    {
      "cell_type": "code",
      "metadata": {
        "colab": {
          "base_uri": "https://localhost:8080/"
        },
        "id": "7TVn7m4xlZvy",
        "outputId": "d266f9a8-8d64-40b5-8c56-6f8fe4a57e15"
      },
      "source": [
        "v1"
      ],
      "execution_count": 43,
      "outputs": [
        {
          "output_type": "execute_result",
          "data": {
            "text/plain": [
              "Vector<1.0>"
            ]
          },
          "metadata": {},
          "execution_count": 43
        }
      ]
    },
    {
      "cell_type": "code",
      "metadata": {
        "id": "V5buXVDclaS4"
      },
      "source": [
        "v2 = Vector(Point(0,0), Point(0, 1))"
      ],
      "execution_count": 44,
      "outputs": []
    },
    {
      "cell_type": "code",
      "metadata": {
        "colab": {
          "base_uri": "https://localhost:8080/"
        },
        "id": "LoAaxgGhlhYB",
        "outputId": "24b275f6-831b-4a08-ba25-69a0f87f09c6"
      },
      "source": [
        "v1 + v2"
      ],
      "execution_count": 45,
      "outputs": [
        {
          "output_type": "execute_result",
          "data": {
            "text/plain": [
              "Vector<2.0>"
            ]
          },
          "metadata": {},
          "execution_count": 45
        }
      ]
    },
    {
      "cell_type": "code",
      "metadata": {
        "id": "p62h14_8libX"
      },
      "source": [
        "v3 = Vector(Point(0, 0), Point(1, 0))"
      ],
      "execution_count": 46,
      "outputs": []
    },
    {
      "cell_type": "code",
      "metadata": {
        "colab": {
          "base_uri": "https://localhost:8080/"
        },
        "id": "T3Hi2veXloh1",
        "outputId": "3d630606-0241-4ca1-844a-1c1cca910c7f"
      },
      "source": [
        "v1 + v3"
      ],
      "execution_count": 47,
      "outputs": [
        {
          "output_type": "execute_result",
          "data": {
            "text/plain": [
              "Vector<1.4142135623730951>"
            ]
          },
          "metadata": {},
          "execution_count": 47
        }
      ]
    },
    {
      "cell_type": "code",
      "metadata": {
        "id": "VaOHB7oplqJj"
      },
      "source": [
        "x = 4"
      ],
      "execution_count": 48,
      "outputs": []
    },
    {
      "cell_type": "code",
      "metadata": {
        "colab": {
          "base_uri": "https://localhost:8080/",
          "height": 35
        },
        "id": "j6Y1Umg5lrou",
        "outputId": "7f8c3c5f-22e8-4156-9340-c71d8b7f0356"
      },
      "source": [
        "\"*\" * 5"
      ],
      "execution_count": 49,
      "outputs": [
        {
          "output_type": "execute_result",
          "data": {
            "application/vnd.google.colaboratory.intrinsic+json": {
              "type": "string"
            },
            "text/plain": [
              "'*****'"
            ]
          },
          "metadata": {},
          "execution_count": 49
        }
      ]
    },
    {
      "cell_type": "code",
      "metadata": {
        "colab": {
          "base_uri": "https://localhost:8080/",
          "height": 35
        },
        "id": "b1tukMDWltpM",
        "outputId": "d5b32987-4856-4d8c-a705-7b1a85156c1e"
      },
      "source": [
        "5 * \"*\""
      ],
      "execution_count": 50,
      "outputs": [
        {
          "output_type": "execute_result",
          "data": {
            "application/vnd.google.colaboratory.intrinsic+json": {
              "type": "string"
            },
            "text/plain": [
              "'*****'"
            ]
          },
          "metadata": {},
          "execution_count": 50
        }
      ]
    },
    {
      "cell_type": "markdown",
      "metadata": {
        "id": "2nik1djgl7sP"
      },
      "source": [
        "### Class variable and instance variable"
      ]
    },
    {
      "cell_type": "code",
      "metadata": {
        "id": "GKjzL5FVl5dH"
      },
      "source": [
        "class Light:\n",
        "\n",
        "    def __init__(self):\n",
        "        self.status = False\n",
        "    \n",
        "    def switchon(self):\n",
        "        self.status = True\n",
        "    \n",
        "    def swithchoff(self):\n",
        "        self.status = False \n",
        "    \n",
        "    def __repr__(self):\n",
        "        s = \"on\" if self.status else \"off\"\n",
        "        return f\"Light < {s} > \"\n",
        "\n",
        "class YellowLight(Light):# Light is parent class,\n",
        "    color = \"Yellow\""
      ],
      "execution_count": 57,
      "outputs": []
    },
    {
      "cell_type": "code",
      "metadata": {
        "id": "9nY1hMUznMlD"
      },
      "source": [
        "y1 = YellowLight()"
      ],
      "execution_count": 58,
      "outputs": []
    },
    {
      "cell_type": "code",
      "metadata": {
        "colab": {
          "base_uri": "https://localhost:8080/"
        },
        "id": "kPUjeSqqnQmM",
        "outputId": "7e561164-1bd1-43c8-9423-87e9a76f06db"
      },
      "source": [
        "y1"
      ],
      "execution_count": 59,
      "outputs": [
        {
          "output_type": "execute_result",
          "data": {
            "text/plain": [
              "Light < off > "
            ]
          },
          "metadata": {},
          "execution_count": 59
        }
      ]
    },
    {
      "cell_type": "code",
      "metadata": {
        "colab": {
          "base_uri": "https://localhost:8080/",
          "height": 35
        },
        "id": "qaxIT3Q2neCJ",
        "outputId": "e5de91b4-4b19-4530-b975-68f89c3ea622"
      },
      "source": [
        "y1.color"
      ],
      "execution_count": 60,
      "outputs": [
        {
          "output_type": "execute_result",
          "data": {
            "application/vnd.google.colaboratory.intrinsic+json": {
              "type": "string"
            },
            "text/plain": [
              "'Yellow'"
            ]
          },
          "metadata": {},
          "execution_count": 60
        }
      ]
    },
    {
      "cell_type": "code",
      "metadata": {
        "colab": {
          "base_uri": "https://localhost:8080/"
        },
        "id": "yjFXHpJ6nh4i",
        "outputId": "dcd79131-1689-405b-a835-aee4c0733478"
      },
      "source": [
        "y1.status"
      ],
      "execution_count": 61,
      "outputs": [
        {
          "output_type": "execute_result",
          "data": {
            "text/plain": [
              "False"
            ]
          },
          "metadata": {},
          "execution_count": 61
        }
      ]
    },
    {
      "cell_type": "code",
      "metadata": {
        "id": "ME1MuL03noQU"
      },
      "source": [
        "y1.switchon()"
      ],
      "execution_count": 62,
      "outputs": []
    },
    {
      "cell_type": "code",
      "metadata": {
        "colab": {
          "base_uri": "https://localhost:8080/",
          "height": 35
        },
        "id": "5EzpXhRcnuFh",
        "outputId": "212b1fa1-6e2c-4f8a-8651-31c57ee42016"
      },
      "source": [
        "y1.color"
      ],
      "execution_count": 63,
      "outputs": [
        {
          "output_type": "execute_result",
          "data": {
            "application/vnd.google.colaboratory.intrinsic+json": {
              "type": "string"
            },
            "text/plain": [
              "'Yellow'"
            ]
          },
          "metadata": {},
          "execution_count": 63
        }
      ]
    },
    {
      "cell_type": "code",
      "metadata": {
        "colab": {
          "base_uri": "https://localhost:8080/"
        },
        "id": "9CJZUaJxoGg-",
        "outputId": "faa70e1f-c5a5-4ac4-e66e-54c6c30574eb"
      },
      "source": [
        "y1.status"
      ],
      "execution_count": 64,
      "outputs": [
        {
          "output_type": "execute_result",
          "data": {
            "text/plain": [
              "True"
            ]
          },
          "metadata": {},
          "execution_count": 64
        }
      ]
    },
    {
      "cell_type": "code",
      "metadata": {
        "colab": {
          "base_uri": "https://localhost:8080/"
        },
        "id": "8GhEmmMWoixk",
        "outputId": "29589fed-3059-440e-cb10-6733a74c60ae"
      },
      "source": [
        "y1"
      ],
      "execution_count": 65,
      "outputs": [
        {
          "output_type": "execute_result",
          "data": {
            "text/plain": [
              "Light < on > "
            ]
          },
          "metadata": {},
          "execution_count": 65
        }
      ]
    },
    {
      "cell_type": "code",
      "metadata": {
        "id": "U4LBtBM5olf1"
      },
      "source": [
        "y2 = YellowLight()"
      ],
      "execution_count": 66,
      "outputs": []
    },
    {
      "cell_type": "code",
      "metadata": {
        "colab": {
          "base_uri": "https://localhost:8080/",
          "height": 35
        },
        "id": "xSgia2-Noo9r",
        "outputId": "c7057dcc-6cae-4e9d-a93b-c72e99eeb813"
      },
      "source": [
        "y2.color"
      ],
      "execution_count": 67,
      "outputs": [
        {
          "output_type": "execute_result",
          "data": {
            "application/vnd.google.colaboratory.intrinsic+json": {
              "type": "string"
            },
            "text/plain": [
              "'Yellow'"
            ]
          },
          "metadata": {},
          "execution_count": 67
        }
      ]
    },
    {
      "cell_type": "code",
      "metadata": {
        "colab": {
          "base_uri": "https://localhost:8080/"
        },
        "id": "E3Ipu0-zoqEJ",
        "outputId": "07650f8a-5532-49f5-c051-c8528ba705ef"
      },
      "source": [
        "y2.status"
      ],
      "execution_count": 68,
      "outputs": [
        {
          "output_type": "execute_result",
          "data": {
            "text/plain": [
              "False"
            ]
          },
          "metadata": {},
          "execution_count": 68
        }
      ]
    },
    {
      "cell_type": "code",
      "metadata": {
        "colab": {
          "base_uri": "https://localhost:8080/"
        },
        "id": "k_yrN_bAowCi",
        "outputId": "9a25bd15-a065-49a4-a46e-77675cb93e8b"
      },
      "source": [
        "y2"
      ],
      "execution_count": 69,
      "outputs": [
        {
          "output_type": "execute_result",
          "data": {
            "text/plain": [
              "Light < off > "
            ]
          },
          "metadata": {},
          "execution_count": 69
        }
      ]
    },
    {
      "cell_type": "code",
      "metadata": {
        "colab": {
          "base_uri": "https://localhost:8080/"
        },
        "id": "qtcC_GD5pa-y",
        "outputId": "6573aa71-52e4-4967-baea-fade097f0d8b"
      },
      "source": [
        "y1"
      ],
      "execution_count": 71,
      "outputs": [
        {
          "output_type": "execute_result",
          "data": {
            "text/plain": [
              "Light < on > "
            ]
          },
          "metadata": {},
          "execution_count": 71
        }
      ]
    },
    {
      "cell_type": "code",
      "metadata": {
        "id": "glWZnFRupWJQ"
      },
      "source": [
        "YellowLight.color = \"crimson_yellow\""
      ],
      "execution_count": 70,
      "outputs": []
    },
    {
      "cell_type": "code",
      "metadata": {
        "colab": {
          "base_uri": "https://localhost:8080/",
          "height": 35
        },
        "id": "edvtFeScpZRQ",
        "outputId": "c47aca26-7d18-4e29-9974-7feea89d2d99"
      },
      "source": [
        "y1.color"
      ],
      "execution_count": 72,
      "outputs": [
        {
          "output_type": "execute_result",
          "data": {
            "application/vnd.google.colaboratory.intrinsic+json": {
              "type": "string"
            },
            "text/plain": [
              "'crimson_yellow'"
            ]
          },
          "metadata": {},
          "execution_count": 72
        }
      ]
    },
    {
      "cell_type": "code",
      "metadata": {
        "colab": {
          "base_uri": "https://localhost:8080/",
          "height": 35
        },
        "id": "Kae_7nENpdyO",
        "outputId": "ac8c6b5c-9d24-4a0a-ba10-066fc6658987"
      },
      "source": [
        "y2.color"
      ],
      "execution_count": 73,
      "outputs": [
        {
          "output_type": "execute_result",
          "data": {
            "application/vnd.google.colaboratory.intrinsic+json": {
              "type": "string"
            },
            "text/plain": [
              "'crimson_yellow'"
            ]
          },
          "metadata": {},
          "execution_count": 73
        }
      ]
    },
    {
      "cell_type": "markdown",
      "metadata": {
        "id": "AgGnfeRypg7V"
      },
      "source": [
        "### Example\n",
        "- Suppose ebook reading has to be modelled using classes. Contents of book are given as textfile. The reader class takes filename as input and allows us browsing through the book pagewise. Size if page is fixed to 20 lines."
      ]
    },
    {
      "cell_type": "code",
      "metadata": {
        "id": "mS0pX7Jhpfgt"
      },
      "source": [
        "class EbookReader:\n",
        "    \n",
        "    def __init__(self, filename):\n",
        "        with open(filename) as f:\n",
        "            self._lines = f.readlines()\n",
        "            \n",
        "        self._pagesize = 20\n",
        "        self._position = 0\n",
        "        \n",
        "    def get_next_page(self):\n",
        "        if self._position < len(self._lines):\n",
        "            page = self._lines[self._position:self._position+self._pagesize]\n",
        "            self._position += self._pagesize\n",
        "            return \"\".join(page)\n",
        "        return \"\"\n",
        "    \n",
        "    def read_next_page(self):\n",
        "        print(self.get_next_page())\n",
        "    \n",
        "    def go_to(self, linenum):\n",
        "        if linenum >=0 and linenum < len(self._lines):\n",
        "            self._position = linenum\n",
        "            \n",
        "    def go_to_start(self):\n",
        "        self.go_to(0)"
      ],
      "execution_count": 74,
      "outputs": []
    },
    {
      "cell_type": "code",
      "metadata": {
        "colab": {
          "base_uri": "https://localhost:8080/"
        },
        "id": "eAVBXjsgrCE5",
        "outputId": "a6e324d7-9b71-4aa0-a712-61c375df6d30"
      },
      "source": [
        "%%file poem.txt \n",
        "The Zen of Python, by Tim Peters\n",
        "\n",
        "Beautiful is better than ugly.\n",
        "Explicit is better than implicit.\n",
        "Simple is better than complex.\n",
        "Complex is better than complicated.\n",
        "Flat is better than nested.\n",
        "Sparse is better than dense.\n",
        "Readability counts.\n",
        "Special cases aren't special enough to break the rules.\n",
        "Although practicality beats purity.\n",
        "Errors should never pass silently.\n",
        "Unless explicitly silenced.\n",
        "In the face of ambiguity, refuse the temptation to guess.\n",
        "There should be one-- and preferably only one --obvious way to do it.\n",
        "Although that way may not be obvious at first unless you're Dutch.\n",
        "Now is better than never.\n",
        "Although never is often better than *right* now.\n",
        "If the implementation is hard to explain, it's a bad idea.\n",
        "If the implementation is easy to explain, it may be a good idea.\n",
        "Namespaces are one honking great idea -- let's do more of those!"
      ],
      "execution_count": 78,
      "outputs": [
        {
          "output_type": "stream",
          "name": "stdout",
          "text": [
            "Writing poem.txt\n"
          ]
        }
      ]
    },
    {
      "cell_type": "code",
      "metadata": {
        "id": "6OXK3loTqYsk"
      },
      "source": [
        "with open(\"poem.txt\") as f:\n",
        "    contents = f.read()\n",
        "\n",
        "with open('sample_book.txt', \"w\") as f:\n",
        "    for i in range(30):\n",
        "        f.write(contents)"
      ],
      "execution_count": 80,
      "outputs": []
    },
    {
      "cell_type": "code",
      "metadata": {
        "id": "Y7attmzfqhCh"
      },
      "source": [
        "ebook_reader = EbookReader(\"sample_book.txt\")"
      ],
      "execution_count": 81,
      "outputs": []
    },
    {
      "cell_type": "code",
      "metadata": {
        "colab": {
          "base_uri": "https://localhost:8080/"
        },
        "id": "tfUgQeJ_rV_2",
        "outputId": "10a84d65-928b-43d9-8b39-1ade397ab54d"
      },
      "source": [
        "ebook_reader.read_next_page()"
      ],
      "execution_count": 82,
      "outputs": [
        {
          "output_type": "stream",
          "name": "stdout",
          "text": [
            "The Zen of Python, by Tim Peters\n",
            "\n",
            "Beautiful is better than ugly.\n",
            "Explicit is better than implicit.\n",
            "Simple is better than complex.\n",
            "Complex is better than complicated.\n",
            "Flat is better than nested.\n",
            "Sparse is better than dense.\n",
            "Readability counts.\n",
            "Special cases aren't special enough to break the rules.\n",
            "Although practicality beats purity.\n",
            "Errors should never pass silently.\n",
            "Unless explicitly silenced.\n",
            "In the face of ambiguity, refuse the temptation to guess.\n",
            "There should be one-- and preferably only one --obvious way to do it.\n",
            "Although that way may not be obvious at first unless you're Dutch.\n",
            "Now is better than never.\n",
            "Although never is often better than *right* now.\n",
            "If the implementation is hard to explain, it's a bad idea.\n",
            "If the implementation is easy to explain, it may be a good idea.\n",
            "\n"
          ]
        }
      ]
    },
    {
      "cell_type": "code",
      "metadata": {
        "colab": {
          "base_uri": "https://localhost:8080/"
        },
        "id": "t--VHqecrbr8",
        "outputId": "0c09d3c8-88ad-4aa2-a934-8cfcad3b0263"
      },
      "source": [
        "ebook_reader.read_next_page()"
      ],
      "execution_count": 83,
      "outputs": [
        {
          "output_type": "stream",
          "name": "stdout",
          "text": [
            "Namespaces are one honking great idea -- let's do more of those!The Zen of Python, by Tim Peters\n",
            "\n",
            "Beautiful is better than ugly.\n",
            "Explicit is better than implicit.\n",
            "Simple is better than complex.\n",
            "Complex is better than complicated.\n",
            "Flat is better than nested.\n",
            "Sparse is better than dense.\n",
            "Readability counts.\n",
            "Special cases aren't special enough to break the rules.\n",
            "Although practicality beats purity.\n",
            "Errors should never pass silently.\n",
            "Unless explicitly silenced.\n",
            "In the face of ambiguity, refuse the temptation to guess.\n",
            "There should be one-- and preferably only one --obvious way to do it.\n",
            "Although that way may not be obvious at first unless you're Dutch.\n",
            "Now is better than never.\n",
            "Although never is often better than *right* now.\n",
            "If the implementation is hard to explain, it's a bad idea.\n",
            "If the implementation is easy to explain, it may be a good idea.\n",
            "\n"
          ]
        }
      ]
    },
    {
      "cell_type": "code",
      "metadata": {
        "colab": {
          "base_uri": "https://localhost:8080/"
        },
        "id": "ESNOlfPVree0",
        "outputId": "c63ba724-109b-4be7-a3d4-9cdcbe60218a"
      },
      "source": [
        "ebook_reader.read_next_page()"
      ],
      "execution_count": 84,
      "outputs": [
        {
          "output_type": "stream",
          "name": "stdout",
          "text": [
            "Namespaces are one honking great idea -- let's do more of those!The Zen of Python, by Tim Peters\n",
            "\n",
            "Beautiful is better than ugly.\n",
            "Explicit is better than implicit.\n",
            "Simple is better than complex.\n",
            "Complex is better than complicated.\n",
            "Flat is better than nested.\n",
            "Sparse is better than dense.\n",
            "Readability counts.\n",
            "Special cases aren't special enough to break the rules.\n",
            "Although practicality beats purity.\n",
            "Errors should never pass silently.\n",
            "Unless explicitly silenced.\n",
            "In the face of ambiguity, refuse the temptation to guess.\n",
            "There should be one-- and preferably only one --obvious way to do it.\n",
            "Although that way may not be obvious at first unless you're Dutch.\n",
            "Now is better than never.\n",
            "Although never is often better than *right* now.\n",
            "If the implementation is hard to explain, it's a bad idea.\n",
            "If the implementation is easy to explain, it may be a good idea.\n",
            "\n"
          ]
        }
      ]
    },
    {
      "cell_type": "code",
      "metadata": {
        "id": "M4vsHbaxrga8"
      },
      "source": [
        "ebook_reader.go_to(15)"
      ],
      "execution_count": 85,
      "outputs": []
    },
    {
      "cell_type": "code",
      "metadata": {
        "colab": {
          "base_uri": "https://localhost:8080/"
        },
        "id": "DUkh56hcriLB",
        "outputId": "fd6bbfe6-6646-4690-da5a-108ad6a575f0"
      },
      "source": [
        "ebook_reader.read_next_page()"
      ],
      "execution_count": 86,
      "outputs": [
        {
          "output_type": "stream",
          "name": "stdout",
          "text": [
            "Although that way may not be obvious at first unless you're Dutch.\n",
            "Now is better than never.\n",
            "Although never is often better than *right* now.\n",
            "If the implementation is hard to explain, it's a bad idea.\n",
            "If the implementation is easy to explain, it may be a good idea.\n",
            "Namespaces are one honking great idea -- let's do more of those!The Zen of Python, by Tim Peters\n",
            "\n",
            "Beautiful is better than ugly.\n",
            "Explicit is better than implicit.\n",
            "Simple is better than complex.\n",
            "Complex is better than complicated.\n",
            "Flat is better than nested.\n",
            "Sparse is better than dense.\n",
            "Readability counts.\n",
            "Special cases aren't special enough to break the rules.\n",
            "Although practicality beats purity.\n",
            "Errors should never pass silently.\n",
            "Unless explicitly silenced.\n",
            "In the face of ambiguity, refuse the temptation to guess.\n",
            "There should be one-- and preferably only one --obvious way to do it.\n",
            "\n"
          ]
        }
      ]
    },
    {
      "cell_type": "markdown",
      "metadata": {
        "id": "ILc92sQqr-3q"
      },
      "source": [
        "### Problem\n",
        "- Write a class called ``` Timer ```\n",
        " which can be used to time any computation.\n",
        "```\n",
        "timer = Timer()\n",
        "timer.start()\n",
        "s = 0\n",
        "for i in range(10000):\n",
        "    for j in range(1000):\n",
        "       s += i*j + 1\n",
        "timer.stop()\n",
        "print(timer.time_taken())\n",
        "```"
      ]
    },
    {
      "cell_type": "code",
      "metadata": {
        "id": "cqGHmhpZrjob"
      },
      "source": [
        "import time"
      ],
      "execution_count": 88,
      "outputs": []
    },
    {
      "cell_type": "code",
      "metadata": {
        "colab": {
          "base_uri": "https://localhost:8080/"
        },
        "id": "YwzDvmFrr87o",
        "outputId": "022ca752-ab22-430a-8a5a-96070d661995"
      },
      "source": [
        "time.time()"
      ],
      "execution_count": 89,
      "outputs": [
        {
          "output_type": "execute_result",
          "data": {
            "text/plain": [
              "1633676249.2856278"
            ]
          },
          "metadata": {},
          "execution_count": 89
        }
      ]
    },
    {
      "cell_type": "code",
      "metadata": {
        "id": "0Vo6qedOsUEu"
      },
      "source": [
        ""
      ],
      "execution_count": null,
      "outputs": []
    }
  ]
}