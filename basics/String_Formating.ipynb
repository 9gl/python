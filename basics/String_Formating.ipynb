{
  "nbformat": 4,
  "nbformat_minor": 0,
  "metadata": {
    "colab": {
      "name": "String_Formating.ipynb",
      "provenance": [],
      "collapsed_sections": []
    },
    "kernelspec": {
      "name": "python3",
      "display_name": "Python 3"
    },
    "language_info": {
      "name": "python"
    }
  },
  "cells": [
    {
      "cell_type": "markdown",
      "metadata": {
        "id": "HQkLZWM-9j6q"
      },
      "source": [
        "### String Formating\n"
      ]
    },
    {
      "cell_type": "code",
      "metadata": {
        "colab": {
          "base_uri": "https://localhost:8080/",
          "height": 35
        },
        "id": "HFBMs2r0JhP7",
        "outputId": "3d1c6300-05b7-4ce0-9fe0-50045a3e310f"
      },
      "source": [
        "%autosave 2"
      ],
      "execution_count": 85,
      "outputs": [
        {
          "output_type": "display_data",
          "data": {
            "application/javascript": [
              "IPython.notebook.set_autosave_interval(2000)"
            ]
          },
          "metadata": {}
        },
        {
          "output_type": "stream",
          "name": "stdout",
          "text": [
            "Autosaving every 2 seconds\n"
          ]
        }
      ]
    },
    {
      "cell_type": "code",
      "metadata": {
        "colab": {
          "base_uri": "https://localhost:8080/"
        },
        "id": "6BVrcBRmvKUt",
        "outputId": "7119699e-b254-4800-dbdc-8c1c87f6ac82"
      },
      "source": [
        "for i in range(1, 11):\n",
        "    print(str(i).rjust(2), str(i**2).rjust(3), str(i**3).rjust(4))"
      ],
      "execution_count": 1,
      "outputs": [
        {
          "output_type": "stream",
          "name": "stdout",
          "text": [
            " 1   1    1\n",
            " 2   4    8\n",
            " 3   9   27\n",
            " 4  16   64\n",
            " 5  25  125\n",
            " 6  36  216\n",
            " 7  49  343\n",
            " 8  64  512\n",
            " 9  81  729\n",
            "10 100 1000\n"
          ]
        }
      ]
    },
    {
      "cell_type": "code",
      "metadata": {
        "colab": {
          "base_uri": "https://localhost:8080/",
          "height": 35
        },
        "id": "FPl2cBLT9oob",
        "outputId": "a4b722c0-10ee-490b-cf55-4f635109b197"
      },
      "source": [
        "\"text\".rjust(50)"
      ],
      "execution_count": 2,
      "outputs": [
        {
          "output_type": "execute_result",
          "data": {
            "application/vnd.google.colaboratory.intrinsic+json": {
              "type": "string"
            },
            "text/plain": [
              "'                                              text'"
            ]
          },
          "metadata": {},
          "execution_count": 2
        }
      ]
    },
    {
      "cell_type": "code",
      "metadata": {
        "colab": {
          "base_uri": "https://localhost:8080/",
          "height": 35
        },
        "id": "hCEzYSl_9pwC",
        "outputId": "4b7fac22-d34c-4ebe-a862-7e882de3ae3f"
      },
      "source": [
        "\"text\".ljust(50)"
      ],
      "execution_count": 3,
      "outputs": [
        {
          "output_type": "execute_result",
          "data": {
            "application/vnd.google.colaboratory.intrinsic+json": {
              "type": "string"
            },
            "text/plain": [
              "'text                                              '"
            ]
          },
          "metadata": {},
          "execution_count": 3
        }
      ]
    },
    {
      "cell_type": "code",
      "metadata": {
        "colab": {
          "base_uri": "https://localhost:8080/",
          "height": 35
        },
        "id": "hw40aWs49q0I",
        "outputId": "2aba96b2-3037-41bb-fa86-6708378c0f64"
      },
      "source": [
        "\"text\".center(50)"
      ],
      "execution_count": 4,
      "outputs": [
        {
          "output_type": "execute_result",
          "data": {
            "application/vnd.google.colaboratory.intrinsic+json": {
              "type": "string"
            },
            "text/plain": [
              "'                       text                       '"
            ]
          },
          "metadata": {},
          "execution_count": 4
        }
      ]
    },
    {
      "cell_type": "code",
      "metadata": {
        "id": "68YJrX389r5Q"
      },
      "source": [
        "def make_triangle(n):\n",
        "    return [\"*\"*row for row in range(1, n+1)]"
      ],
      "execution_count": 5,
      "outputs": []
    },
    {
      "cell_type": "code",
      "metadata": {
        "colab": {
          "base_uri": "https://localhost:8080/"
        },
        "id": "bwvRzeej9uWw",
        "outputId": "278114d9-e58f-4d35-ace6-a553525bdcad"
      },
      "source": [
        "make_triangle(5)"
      ],
      "execution_count": 6,
      "outputs": [
        {
          "output_type": "execute_result",
          "data": {
            "text/plain": [
              "['*', '**', '***', '****', '*****']"
            ]
          },
          "metadata": {},
          "execution_count": 6
        }
      ]
    },
    {
      "cell_type": "code",
      "metadata": {
        "colab": {
          "base_uri": "https://localhost:8080/"
        },
        "id": "3-KAxlXs9vX_",
        "outputId": "b2d4111b-a30b-473c-869b-2414a169bfcc"
      },
      "source": [
        "for row in make_triangle(5):\n",
        "    print(row)"
      ],
      "execution_count": 7,
      "outputs": [
        {
          "output_type": "stream",
          "name": "stdout",
          "text": [
            "*\n",
            "**\n",
            "***\n",
            "****\n",
            "*****\n"
          ]
        }
      ]
    },
    {
      "cell_type": "code",
      "metadata": {
        "id": "9z3tSTG_9wZw"
      },
      "source": [
        "def prety_print(triangle):\n",
        "    width = len(triangle[-1])\n",
        "    for row in triangle:\n",
        "        print(row.center(width))"
      ],
      "execution_count": 8,
      "outputs": []
    },
    {
      "cell_type": "code",
      "metadata": {
        "colab": {
          "base_uri": "https://localhost:8080/"
        },
        "id": "-xR3PLHh9xoh",
        "outputId": "d49aae04-afdc-4d24-d36d-b9dd1c1fa921"
      },
      "source": [
        "prety_print(make_triangle(10))"
      ],
      "execution_count": 9,
      "outputs": [
        {
          "output_type": "stream",
          "name": "stdout",
          "text": [
            "    *     \n",
            "    **    \n",
            "   ***    \n",
            "   ****   \n",
            "  *****   \n",
            "  ******  \n",
            " *******  \n",
            " ******** \n",
            "********* \n",
            "**********\n"
          ]
        }
      ]
    },
    {
      "cell_type": "code",
      "metadata": {
        "id": "-GR99wPw9y0z"
      },
      "source": [
        "def format_row(row):\n",
        "    return \" \".join(list(row))\n",
        "\n",
        "def prety_print(triangle):\n",
        "    base = len(triangle[-1])\n",
        "    width = base + base -1\n",
        "    \n",
        "    for row in triangle:\n",
        "        row_ = format_row(row)\n",
        "        print(row_.center(width))"
      ],
      "execution_count": 10,
      "outputs": []
    },
    {
      "cell_type": "code",
      "metadata": {
        "colab": {
          "base_uri": "https://localhost:8080/"
        },
        "id": "eSfZQspJ90Jq",
        "outputId": "35bba41e-cf02-43eb-a038-6c37194d0439"
      },
      "source": [
        "prety_print(make_triangle(10))"
      ],
      "execution_count": 11,
      "outputs": [
        {
          "output_type": "stream",
          "name": "stdout",
          "text": [
            "         *         \n",
            "        * *        \n",
            "       * * *       \n",
            "      * * * *      \n",
            "     * * * * *     \n",
            "    * * * * * *    \n",
            "   * * * * * * *   \n",
            "  * * * * * * * *  \n",
            " * * * * * * * * * \n",
            "* * * * * * * * * *\n"
          ]
        }
      ]
    },
    {
      "cell_type": "markdown",
      "metadata": {
        "id": "cz6UXYX6929l"
      },
      "source": [
        "Pascal Triangle\n",
        "```\n",
        "             1\n",
        "           1  1\n",
        "         1  2  1\n",
        "       1  3  3  1\n",
        "     1  4  6  4  1\n",
        "   1  5  10 10  5  1\n",
        "```"
      ]
    },
    {
      "cell_type": "code",
      "metadata": {
        "id": "2U8DlBm091b9"
      },
      "source": [
        "def pascal(n):\n",
        "    \"\"\"\n",
        "    >>> pascal(1)\n",
        "    [[1]]\n",
        "    >>> pascal(5)\n",
        "    [[1], [1,1], [1, 2, 1], [1, 3, 3, 1], [1, 4, 6, 4, 1]]\n",
        "    \"\"\"\n",
        "    pass"
      ],
      "execution_count": 12,
      "outputs": []
    },
    {
      "cell_type": "code",
      "metadata": {
        "colab": {
          "base_uri": "https://localhost:8080/"
        },
        "id": "L-TdX0ML98DF",
        "outputId": "6cbd4ef9-723e-447a-c413-1810c078a580"
      },
      "source": [
        "11*11"
      ],
      "execution_count": 13,
      "outputs": [
        {
          "output_type": "execute_result",
          "data": {
            "text/plain": [
              "121"
            ]
          },
          "metadata": {},
          "execution_count": 13
        }
      ]
    },
    {
      "cell_type": "markdown",
      "metadata": {
        "id": "-sUIvcQvEvWm"
      },
      "source": [
        "```\n",
        "[1 , 4 , 6 , 4 , 1 ]\n",
        "[1, 1+4, 4+6, 6+4, 4+1, 1]\n",
        "\n",
        "1 4 6 4 1\n",
        "---\n",
        "  ---\n",
        "    ---\n",
        "      ---\n",
        " 1  4  6  4  1  0\n",
        " 0  1  4  6  4  1\n",
        "------------------\n",
        " 1  5 10 10  5  1\n",
        "```"
      ]
    },
    {
      "cell_type": "code",
      "metadata": {
        "id": "BM-Bmf4K99OB"
      },
      "source": [
        "def find_runing_sum(items):\n",
        "    r_s = []\n",
        "    for i, item in enumerate(items[:-1]):\n",
        "        r_s.append(item + items[i+1])\n",
        "    return r_s\n",
        "\n",
        "def find_next_row(row):\n",
        "    runing_sum = find_runing_sum(row)\n",
        "    return [1] + runing_sum + [1]\n",
        "\n",
        "def sum_shifted_rows(row):\n",
        "    first = row + [0]\n",
        "    second = [0] + row\n",
        "    \n",
        "    return [a+b for a,b in zip(first, second)]\n",
        "    "
      ],
      "execution_count": 14,
      "outputs": []
    },
    {
      "cell_type": "code",
      "metadata": {
        "colab": {
          "base_uri": "https://localhost:8080/"
        },
        "id": "88PKdL7XEycU",
        "outputId": "f1f5d001-6053-4486-c18a-16a1d8e5e83b"
      },
      "source": [
        "find_runing_sum([1,3, 3, 1])"
      ],
      "execution_count": 15,
      "outputs": [
        {
          "output_type": "execute_result",
          "data": {
            "text/plain": [
              "[4, 6, 4]"
            ]
          },
          "metadata": {},
          "execution_count": 15
        }
      ]
    },
    {
      "cell_type": "code",
      "metadata": {
        "colab": {
          "base_uri": "https://localhost:8080/"
        },
        "id": "gD2rIKEtEzqL",
        "outputId": "ace645a5-4285-493b-b0a7-579e3f382393"
      },
      "source": [
        "find_next_row([1, 3, 3, 1])"
      ],
      "execution_count": 16,
      "outputs": [
        {
          "output_type": "execute_result",
          "data": {
            "text/plain": [
              "[1, 4, 6, 4, 1]"
            ]
          },
          "metadata": {},
          "execution_count": 16
        }
      ]
    },
    {
      "cell_type": "code",
      "metadata": {
        "colab": {
          "base_uri": "https://localhost:8080/"
        },
        "id": "vNXLXEM_E1Is",
        "outputId": "2166055b-24e4-48b2-e4ad-948a6aa4e713"
      },
      "source": [
        "sum_shifted_rows([1, 3, 3, 1])"
      ],
      "execution_count": 17,
      "outputs": [
        {
          "output_type": "execute_result",
          "data": {
            "text/plain": [
              "[1, 4, 6, 4, 1]"
            ]
          },
          "metadata": {},
          "execution_count": 17
        }
      ]
    },
    {
      "cell_type": "code",
      "metadata": {
        "id": "iPPSyFolE2S3"
      },
      "source": [
        "def pascal(n):\n",
        "    \n",
        "    tr = [[1]]\n",
        "    \n",
        "    for i in range(n-1):\n",
        "        tr.append(find_next_row(tr[-1]))\n",
        "        \n",
        "    return tr"
      ],
      "execution_count": 63,
      "outputs": []
    },
    {
      "cell_type": "code",
      "metadata": {
        "colab": {
          "base_uri": "https://localhost:8080/"
        },
        "id": "OiRjfpcQE4HX",
        "outputId": "79fde85c-5172-446d-e309-38cdf9d7de20"
      },
      "source": [
        "pascal(5)"
      ],
      "execution_count": 64,
      "outputs": [
        {
          "output_type": "execute_result",
          "data": {
            "text/plain": [
              "[[1], [1, 1], [1, 2, 1], [1, 3, 3, 1], [1, 4, 6, 4, 1]]"
            ]
          },
          "metadata": {},
          "execution_count": 64
        }
      ]
    },
    {
      "cell_type": "code",
      "metadata": {
        "id": "GhgJ-CBGE_02"
      },
      "source": [
        "def format(row):\n",
        "    row_ = [str(e) for e in row if type(e) == int ]\n",
        "    return \"  \".join(row_)\n",
        "\n",
        "def pretty_print(triangle):\n",
        "    base = len(triangle[-1])\n",
        "    # print(triangle[-1][-1])\n",
        "    width = base + base + 1\n",
        "\n",
        "    for row in triangle:\n",
        "        row_ = format(row)\n",
        "        print(row_.center(width))\n",
        "\n"
      ],
      "execution_count": 82,
      "outputs": []
    },
    {
      "cell_type": "code",
      "metadata": {
        "colab": {
          "base_uri": "https://localhost:8080/"
        },
        "id": "AwPslhRxFigc",
        "outputId": "2d10553c-5e21-4820-e69a-f07ab1df8d9e"
      },
      "source": [
        "pattern = pretty_print(pascal(5))"
      ],
      "execution_count": 83,
      "outputs": [
        {
          "output_type": "stream",
          "name": "stdout",
          "text": [
            "     1     \n",
            "    1  1   \n",
            "  1  2  1  \n",
            " 1  3  3  1\n",
            "1  4  6  4  1\n"
          ]
        }
      ]
    },
    {
      "cell_type": "code",
      "metadata": {
        "id": "w8m2VXKjGadh"
      },
      "source": [
        ""
      ],
      "execution_count": 35,
      "outputs": []
    }
  ]
}