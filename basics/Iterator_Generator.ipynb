{
  "nbformat": 4,
  "nbformat_minor": 0,
  "metadata": {
    "colab": {
      "name": "Iterator_Generator.ipynb",
      "provenance": [],
      "collapsed_sections": []
    },
    "kernelspec": {
      "name": "python3",
      "display_name": "Python 3"
    },
    "language_info": {
      "name": "python"
    }
  },
  "cells": [
    {
      "cell_type": "code",
      "metadata": {
        "colab": {
          "base_uri": "https://localhost:8080/",
          "height": 35
        },
        "id": "m3q0p73Z5yJH",
        "outputId": "af91a910-c853-4e7a-a9e8-aeb294222af4"
      },
      "source": [
        "%autosave 5"
      ],
      "execution_count": null,
      "outputs": [
        {
          "output_type": "display_data",
          "data": {
            "application/javascript": [
              "IPython.notebook.set_autosave_interval(5000)"
            ]
          },
          "metadata": {}
        },
        {
          "output_type": "stream",
          "name": "stdout",
          "text": [
            "Autosaving every 5 seconds\n"
          ]
        }
      ]
    },
    {
      "cell_type": "code",
      "metadata": {
        "colab": {
          "base_uri": "https://localhost:8080/"
        },
        "id": "ZHn-P7wn40X4",
        "outputId": "ca7c90d4-d1b5-4458-ead0-6633d569abca"
      },
      "source": [
        "nums = [2,3,4,5]\n",
        "for n in nums:\n",
        "    print(n)"
      ],
      "execution_count": null,
      "outputs": [
        {
          "output_type": "stream",
          "name": "stdout",
          "text": [
            "2\n",
            "3\n",
            "4\n",
            "5\n"
          ]
        }
      ]
    },
    {
      "cell_type": "code",
      "metadata": {
        "colab": {
          "base_uri": "https://localhost:8080/"
        },
        "id": "yt-Vy_kL5xYC",
        "outputId": "443e8596-2151-4037-ab22-7a954cd527fc"
      },
      "source": [
        "for c in \"34343\":\n",
        "    print(c)"
      ],
      "execution_count": null,
      "outputs": [
        {
          "output_type": "stream",
          "name": "stdout",
          "text": [
            "3\n",
            "4\n",
            "3\n",
            "4\n",
            "3\n"
          ]
        }
      ]
    },
    {
      "cell_type": "code",
      "metadata": {
        "colab": {
          "base_uri": "https://localhost:8080/"
        },
        "id": "pFz0t9EO535l",
        "outputId": "02be52b7-34e7-43e1-8c97-4b74a2ea279e"
      },
      "source": [
        "for key in {'a' : 1, 'b' : 2, 'c' : 3}:\n",
        "    print(key)"
      ],
      "execution_count": null,
      "outputs": [
        {
          "output_type": "stream",
          "name": "stdout",
          "text": [
            "a\n",
            "b\n",
            "c\n"
          ]
        }
      ]
    },
    {
      "cell_type": "code",
      "metadata": {
        "id": "_VUOn6GJ6Aq0"
      },
      "source": [
        "class Point:\n",
        "\n",
        "    def __init__(self, x, y):\n",
        "        self.x = x\n",
        "        self.y = y"
      ],
      "execution_count": null,
      "outputs": []
    },
    {
      "cell_type": "code",
      "metadata": {
        "id": "S_KrdXSw6G0a"
      },
      "source": [
        "p = Point(3, 5)"
      ],
      "execution_count": null,
      "outputs": []
    },
    {
      "cell_type": "code",
      "metadata": {
        "colab": {
          "base_uri": "https://localhost:8080/",
          "height": 183
        },
        "id": "BuflPvVk6JVV",
        "outputId": "a44b4792-75de-4a37-af43-603b9287530f"
      },
      "source": [
        "for i in p:\n",
        "    print(i)"
      ],
      "execution_count": null,
      "outputs": [
        {
          "output_type": "error",
          "ename": "TypeError",
          "evalue": "ignored",
          "traceback": [
            "\u001b[0;31m---------------------------------------------------------------------------\u001b[0m",
            "\u001b[0;31mTypeError\u001b[0m                                 Traceback (most recent call last)",
            "\u001b[0;32m<ipython-input-9-0518da5b12a1>\u001b[0m in \u001b[0;36m<module>\u001b[0;34m()\u001b[0m\n\u001b[0;32m----> 1\u001b[0;31m \u001b[0;32mfor\u001b[0m \u001b[0mi\u001b[0m \u001b[0;32min\u001b[0m \u001b[0mp\u001b[0m\u001b[0;34m:\u001b[0m\u001b[0;34m\u001b[0m\u001b[0;34m\u001b[0m\u001b[0m\n\u001b[0m\u001b[1;32m      2\u001b[0m     \u001b[0mprint\u001b[0m\u001b[0;34m(\u001b[0m\u001b[0mi\u001b[0m\u001b[0;34m)\u001b[0m\u001b[0;34m\u001b[0m\u001b[0;34m\u001b[0m\u001b[0m\n",
            "\u001b[0;31mTypeError\u001b[0m: 'Point' object is not iterable"
          ]
        }
      ]
    },
    {
      "cell_type": "code",
      "metadata": {
        "id": "tsrAlI-J6Nyz"
      },
      "source": [
        "numtir = iter(nums)"
      ],
      "execution_count": null,
      "outputs": []
    },
    {
      "cell_type": "code",
      "metadata": {
        "colab": {
          "base_uri": "https://localhost:8080/"
        },
        "id": "bxmC2oBV6Rgd",
        "outputId": "ef3fe42f-ee28-4a64-f18d-afeeb5b504a0"
      },
      "source": [
        "next(numtir)"
      ],
      "execution_count": null,
      "outputs": [
        {
          "output_type": "execute_result",
          "data": {
            "text/plain": [
              "2"
            ]
          },
          "metadata": {},
          "execution_count": 11
        }
      ]
    },
    {
      "cell_type": "code",
      "metadata": {
        "colab": {
          "base_uri": "https://localhost:8080/"
        },
        "id": "Z_SLHTIG6S3i",
        "outputId": "f6556c75-842c-4bc1-cec9-a8eb2b55aac2"
      },
      "source": [
        "next(numtir)"
      ],
      "execution_count": null,
      "outputs": [
        {
          "output_type": "execute_result",
          "data": {
            "text/plain": [
              "3"
            ]
          },
          "metadata": {},
          "execution_count": 12
        }
      ]
    },
    {
      "cell_type": "markdown",
      "metadata": {
        "id": "ukmfVBii6aET"
      },
      "source": [
        "# Generators"
      ]
    },
    {
      "cell_type": "code",
      "metadata": {
        "id": "nSIy85KZ6ZuT"
      },
      "source": [
        "def squares(nums):\n",
        "    for n in nums:\n",
        "        yield n*n"
      ],
      "execution_count": null,
      "outputs": []
    },
    {
      "cell_type": "code",
      "metadata": {
        "colab": {
          "base_uri": "https://localhost:8080/"
        },
        "id": "dpINzLot6YNv",
        "outputId": "7563b9d4-3d62-4841-8658-a1cf48d7188d"
      },
      "source": [
        "nums"
      ],
      "execution_count": null,
      "outputs": [
        {
          "output_type": "execute_result",
          "data": {
            "text/plain": [
              "[2, 3, 4, 5]"
            ]
          },
          "metadata": {},
          "execution_count": 14
        }
      ]
    },
    {
      "cell_type": "code",
      "metadata": {
        "id": "0JRIzWN96hdt"
      },
      "source": [
        "num_sqrs = squares(nums)"
      ],
      "execution_count": null,
      "outputs": []
    },
    {
      "cell_type": "code",
      "metadata": {
        "colab": {
          "base_uri": "https://localhost:8080/"
        },
        "id": "8QngTSMB6kOx",
        "outputId": "6d528aeb-1494-475d-cd6d-838dd363bde6"
      },
      "source": [
        "num_sqrs"
      ],
      "execution_count": null,
      "outputs": [
        {
          "output_type": "execute_result",
          "data": {
            "text/plain": [
              "<generator object squares at 0x7f38a4afbcd0>"
            ]
          },
          "metadata": {},
          "execution_count": 16
        }
      ]
    },
    {
      "cell_type": "code",
      "metadata": {
        "colab": {
          "base_uri": "https://localhost:8080/"
        },
        "id": "nqTgpoOG6lYe",
        "outputId": "0ca119f8-0e8c-423e-ed9c-b062c18282e1"
      },
      "source": [
        "next(num_sqrs)"
      ],
      "execution_count": null,
      "outputs": [
        {
          "output_type": "execute_result",
          "data": {
            "text/plain": [
              "4"
            ]
          },
          "metadata": {},
          "execution_count": 17
        }
      ]
    },
    {
      "cell_type": "code",
      "metadata": {
        "colab": {
          "base_uri": "https://localhost:8080/"
        },
        "id": "IadMjQmw6nti",
        "outputId": "805572ef-201a-4a31-ef4f-6737c97f9579"
      },
      "source": [
        "next(num_sqrs)"
      ],
      "execution_count": null,
      "outputs": [
        {
          "output_type": "execute_result",
          "data": {
            "text/plain": [
              "9"
            ]
          },
          "metadata": {},
          "execution_count": 18
        }
      ]
    },
    {
      "cell_type": "code",
      "metadata": {
        "colab": {
          "base_uri": "https://localhost:8080/"
        },
        "id": "CjzHTT5A6pKd",
        "outputId": "9537a0d2-52bc-4ae7-8d6f-ec552a6cbdec"
      },
      "source": [
        "next(num_sqrs)"
      ],
      "execution_count": null,
      "outputs": [
        {
          "output_type": "execute_result",
          "data": {
            "text/plain": [
              "16"
            ]
          },
          "metadata": {},
          "execution_count": 19
        }
      ]
    },
    {
      "cell_type": "code",
      "metadata": {
        "colab": {
          "base_uri": "https://localhost:8080/"
        },
        "id": "QiyyWZLH6p0o",
        "outputId": "c443a556-7700-4070-9344-eace675a98ab"
      },
      "source": [
        "next(num_sqrs)"
      ],
      "execution_count": null,
      "outputs": [
        {
          "output_type": "execute_result",
          "data": {
            "text/plain": [
              "25"
            ]
          },
          "metadata": {},
          "execution_count": 20
        }
      ]
    },
    {
      "cell_type": "code",
      "metadata": {
        "colab": {
          "base_uri": "https://localhost:8080/",
          "height": 166
        },
        "id": "SOIz9Shf6qW4",
        "outputId": "4507ffb0-92d7-4daf-f3d2-792935bb7321"
      },
      "source": [
        "next(num_sqrs)"
      ],
      "execution_count": null,
      "outputs": [
        {
          "output_type": "error",
          "ename": "StopIteration",
          "evalue": "ignored",
          "traceback": [
            "\u001b[0;31m---------------------------------------------------------------------------\u001b[0m",
            "\u001b[0;31mStopIteration\u001b[0m                             Traceback (most recent call last)",
            "\u001b[0;32m<ipython-input-21-97066ee420e5>\u001b[0m in \u001b[0;36m<module>\u001b[0;34m()\u001b[0m\n\u001b[0;32m----> 1\u001b[0;31m \u001b[0mnext\u001b[0m\u001b[0;34m(\u001b[0m\u001b[0mnum_sqrs\u001b[0m\u001b[0;34m)\u001b[0m\u001b[0;34m\u001b[0m\u001b[0;34m\u001b[0m\u001b[0m\n\u001b[0m",
            "\u001b[0;31mStopIteration\u001b[0m: "
          ]
        }
      ]
    },
    {
      "cell_type": "code",
      "metadata": {
        "id": "-V9uKnc66rYq"
      },
      "source": [
        "for s in num_sqrs:\n",
        "    print(s)"
      ],
      "execution_count": null,
      "outputs": []
    },
    {
      "cell_type": "code",
      "metadata": {
        "colab": {
          "base_uri": "https://localhost:8080/"
        },
        "id": "5fUhxPHv6uaz",
        "outputId": "21988cb4-4277-45ae-c725-433c9b2ab385"
      },
      "source": [
        "for s in squares(nums):\n",
        "    print(s)"
      ],
      "execution_count": null,
      "outputs": [
        {
          "output_type": "stream",
          "name": "stdout",
          "text": [
            "4\n",
            "9\n",
            "16\n",
            "25\n"
          ]
        }
      ]
    },
    {
      "cell_type": "code",
      "metadata": {
        "id": "i8kBfFRd6xYh"
      },
      "source": [
        "def squares(nums):\n",
        "    print(\"Starting computing squares\")\n",
        "    for n in nums:\n",
        "        print(f\"Yielding square of {n}\")\n",
        "        yield n*n\n",
        "        print(f\"I am back to generator\")\n",
        "        \n",
        "    print(\"Done..finished everything\")"
      ],
      "execution_count": null,
      "outputs": []
    },
    {
      "cell_type": "code",
      "metadata": {
        "id": "WpX005I66yie"
      },
      "source": [
        "nums_sqrs = squares(nums) # the execution has not started... it is i"
      ],
      "execution_count": null,
      "outputs": []
    },
    {
      "cell_type": "code",
      "metadata": {
        "colab": {
          "base_uri": "https://localhost:8080/"
        },
        "id": "x9JspYqj60CN",
        "outputId": "759c56e2-adcb-4d0e-e29c-feed788bb5dd"
      },
      "source": [
        "next(nums_sqrs) #"
      ],
      "execution_count": null,
      "outputs": [
        {
          "output_type": "stream",
          "name": "stdout",
          "text": [
            "Starting computing squares\n",
            "Yielding square of 2\n"
          ]
        },
        {
          "output_type": "execute_result",
          "data": {
            "text/plain": [
              "4"
            ]
          },
          "metadata": {},
          "execution_count": 26
        }
      ]
    },
    {
      "cell_type": "code",
      "metadata": {
        "colab": {
          "base_uri": "https://localhost:8080/"
        },
        "id": "xAEeZ47T61QZ",
        "outputId": "e5eddf4b-85d5-4823-a4ef-defc05d6b6cf"
      },
      "source": [
        "next(nums_sqrs) # execution again starts after yield statement! and cont"
      ],
      "execution_count": null,
      "outputs": [
        {
          "output_type": "stream",
          "name": "stdout",
          "text": [
            "I am back to generator\n",
            "Yielding square of 3\n"
          ]
        },
        {
          "output_type": "execute_result",
          "data": {
            "text/plain": [
              "9"
            ]
          },
          "metadata": {},
          "execution_count": 27
        }
      ]
    },
    {
      "cell_type": "code",
      "metadata": {
        "colab": {
          "base_uri": "https://localhost:8080/"
        },
        "id": "OItpZGZE62ml",
        "outputId": "4949660a-dd94-45bb-9744-789766d542f6"
      },
      "source": [
        "next(nums_sqrs)"
      ],
      "execution_count": null,
      "outputs": [
        {
          "output_type": "stream",
          "name": "stdout",
          "text": [
            "I am back to generator\n",
            "Yielding square of 4\n"
          ]
        },
        {
          "output_type": "execute_result",
          "data": {
            "text/plain": [
              "16"
            ]
          },
          "metadata": {},
          "execution_count": 28
        }
      ]
    },
    {
      "cell_type": "code",
      "metadata": {
        "colab": {
          "base_uri": "https://localhost:8080/"
        },
        "id": "d6d58yIC63qA",
        "outputId": "90b35fdc-39c9-4e10-f0dc-7b6563afaae6"
      },
      "source": [
        "next(nums_sqrs)"
      ],
      "execution_count": null,
      "outputs": [
        {
          "output_type": "stream",
          "name": "stdout",
          "text": [
            "I am back to generator\n",
            "Yielding square of 5\n"
          ]
        },
        {
          "output_type": "execute_result",
          "data": {
            "text/plain": [
              "25"
            ]
          },
          "metadata": {},
          "execution_count": 29
        }
      ]
    },
    {
      "cell_type": "code",
      "metadata": {
        "colab": {
          "base_uri": "https://localhost:8080/",
          "height": 201
        },
        "id": "3NHHcHXP640c",
        "outputId": "4e4ced20-83a7-4466-fc16-67648723155a"
      },
      "source": [
        "next(nums_sqrs) # when there is no yield statement remaining, i"
      ],
      "execution_count": null,
      "outputs": [
        {
          "output_type": "stream",
          "name": "stdout",
          "text": [
            "I am back to generator\n",
            "Done..finished everything\n"
          ]
        },
        {
          "output_type": "error",
          "ename": "StopIteration",
          "evalue": "ignored",
          "traceback": [
            "\u001b[0;31m---------------------------------------------------------------------------\u001b[0m",
            "\u001b[0;31mStopIteration\u001b[0m                             Traceback (most recent call last)",
            "\u001b[0;32m<ipython-input-30-6f1d1bf4cd9e>\u001b[0m in \u001b[0;36m<module>\u001b[0;34m()\u001b[0m\n\u001b[0;32m----> 1\u001b[0;31m \u001b[0mnext\u001b[0m\u001b[0;34m(\u001b[0m\u001b[0mnums_sqrs\u001b[0m\u001b[0;34m)\u001b[0m \u001b[0;31m# when there is no yield statement remaining, i\u001b[0m\u001b[0;34m\u001b[0m\u001b[0;34m\u001b[0m\u001b[0m\n\u001b[0m",
            "\u001b[0;31mStopIteration\u001b[0m: "
          ]
        }
      ]
    },
    {
      "cell_type": "code",
      "metadata": {
        "id": "32mToZpb66HR",
        "colab": {
          "base_uri": "https://localhost:8080/",
          "height": 166
        },
        "outputId": "989da009-e586-477c-fced-10d1496bb563"
      },
      "source": [
        "next(nums_sqrs)\n"
      ],
      "execution_count": null,
      "outputs": [
        {
          "output_type": "error",
          "ename": "StopIteration",
          "evalue": "ignored",
          "traceback": [
            "\u001b[0;31m---------------------------------------------------------------------------\u001b[0m",
            "\u001b[0;31mStopIteration\u001b[0m                             Traceback (most recent call last)",
            "\u001b[0;32m<ipython-input-31-308d357d66c7>\u001b[0m in \u001b[0;36m<module>\u001b[0;34m()\u001b[0m\n\u001b[0;32m----> 1\u001b[0;31m \u001b[0mnext\u001b[0m\u001b[0;34m(\u001b[0m\u001b[0mnums_sqrs\u001b[0m\u001b[0;34m)\u001b[0m\u001b[0;34m\u001b[0m\u001b[0;34m\u001b[0m\u001b[0m\n\u001b[0m",
            "\u001b[0;31mStopIteration\u001b[0m: "
          ]
        }
      ]
    },
    {
      "cell_type": "code",
      "metadata": {
        "id": "0WxuVOVf67pV"
      },
      "source": [
        "def three_steps(x):\n",
        "    print(\"now starting step 1\")\n",
        "    yield 1, x\n",
        "    print(\"now starting step 2\")\n",
        "    yield 2, x\n",
        "    print(\"now starting step 3\")\n",
        "    yield 3, x\n",
        "    print(\"All steps done..must exit now!\")"
      ],
      "execution_count": null,
      "outputs": []
    },
    {
      "cell_type": "code",
      "metadata": {
        "id": "gUm_T0iw69S7"
      },
      "source": [
        "steps = three_steps(\"hello\")"
      ],
      "execution_count": null,
      "outputs": []
    },
    {
      "cell_type": "code",
      "metadata": {
        "id": "pY2ccpob7DqJ",
        "colab": {
          "base_uri": "https://localhost:8080/"
        },
        "outputId": "44a40557-c0f0-486a-9546-c0e52507a296"
      },
      "source": [
        "next(steps)"
      ],
      "execution_count": null,
      "outputs": [
        {
          "output_type": "stream",
          "name": "stdout",
          "text": [
            "now starting step 1\n"
          ]
        },
        {
          "output_type": "execute_result",
          "data": {
            "text/plain": [
              "(1, 'hello')"
            ]
          },
          "metadata": {},
          "execution_count": 34
        }
      ]
    },
    {
      "cell_type": "code",
      "metadata": {
        "colab": {
          "base_uri": "https://localhost:8080/"
        },
        "id": "HvnsS1j68Mek",
        "outputId": "4baac9a8-5674-4818-8053-3a7bbe35f167"
      },
      "source": [
        "next(steps)"
      ],
      "execution_count": null,
      "outputs": [
        {
          "output_type": "stream",
          "name": "stdout",
          "text": [
            "now starting step 2\n"
          ]
        },
        {
          "output_type": "execute_result",
          "data": {
            "text/plain": [
              "(2, 'hello')"
            ]
          },
          "metadata": {},
          "execution_count": 35
        }
      ]
    },
    {
      "cell_type": "code",
      "metadata": {
        "id": "oY4La4NB8Nym",
        "colab": {
          "base_uri": "https://localhost:8080/"
        },
        "outputId": "7064804c-4807-4f71-c1bd-e2f01dbd0abf"
      },
      "source": [
        "next(steps)"
      ],
      "execution_count": null,
      "outputs": [
        {
          "output_type": "stream",
          "name": "stdout",
          "text": [
            "now starting step 3\n"
          ]
        },
        {
          "output_type": "execute_result",
          "data": {
            "text/plain": [
              "(3, 'hello')"
            ]
          },
          "metadata": {},
          "execution_count": 36
        }
      ]
    },
    {
      "cell_type": "code",
      "metadata": {
        "id": "4uZUGrWV8QJX",
        "colab": {
          "base_uri": "https://localhost:8080/",
          "height": 183
        },
        "outputId": "41d93f07-b415-4f21-940d-0937352bb92b"
      },
      "source": [
        "next(steps)"
      ],
      "execution_count": null,
      "outputs": [
        {
          "output_type": "stream",
          "name": "stdout",
          "text": [
            "All steps done..must exit now!\n"
          ]
        },
        {
          "output_type": "error",
          "ename": "StopIteration",
          "evalue": "ignored",
          "traceback": [
            "\u001b[0;31m---------------------------------------------------------------------------\u001b[0m",
            "\u001b[0;31mStopIteration\u001b[0m                             Traceback (most recent call last)",
            "\u001b[0;32m<ipython-input-37-4c63c7417456>\u001b[0m in \u001b[0;36m<module>\u001b[0;34m()\u001b[0m\n\u001b[0;32m----> 1\u001b[0;31m \u001b[0mnext\u001b[0m\u001b[0;34m(\u001b[0m\u001b[0msteps\u001b[0m\u001b[0;34m)\u001b[0m\u001b[0;34m\u001b[0m\u001b[0;34m\u001b[0m\u001b[0m\n\u001b[0m",
            "\u001b[0;31mStopIteration\u001b[0m: "
          ]
        }
      ]
    },
    {
      "cell_type": "code",
      "metadata": {
        "id": "JIp1DgGT8RZQ"
      },
      "source": [
        "def countdown(n):\n",
        "    while n>0:\n",
        "        yield n\n",
        "        n -= 1"
      ],
      "execution_count": null,
      "outputs": []
    },
    {
      "cell_type": "code",
      "metadata": {
        "colab": {
          "base_uri": "https://localhost:8080/",
          "height": 183
        },
        "id": "LqdYyqR18XDe",
        "outputId": "f4498f01-8e6f-4bb4-95c1-facb6edce32e"
      },
      "source": [
        "for i in countdown(5):\n",
        "    print(i)"
      ],
      "execution_count": null,
      "outputs": [
        {
          "output_type": "error",
          "ename": "NameError",
          "evalue": "ignored",
          "traceback": [
            "\u001b[0;31m---------------------------------------------------------------------------\u001b[0m",
            "\u001b[0;31mNameError\u001b[0m                                 Traceback (most recent call last)",
            "\u001b[0;32m<ipython-input-38-14df7a049e8d>\u001b[0m in \u001b[0;36m<module>\u001b[0;34m()\u001b[0m\n\u001b[0;32m----> 1\u001b[0;31m \u001b[0;32mfor\u001b[0m \u001b[0mi\u001b[0m \u001b[0;32min\u001b[0m \u001b[0mcountdown\u001b[0m\u001b[0;34m(\u001b[0m\u001b[0;36m5\u001b[0m\u001b[0;34m)\u001b[0m\u001b[0;34m:\u001b[0m\u001b[0;34m\u001b[0m\u001b[0;34m\u001b[0m\u001b[0m\n\u001b[0m\u001b[1;32m      2\u001b[0m     \u001b[0mprint\u001b[0m\u001b[0;34m(\u001b[0m\u001b[0mi\u001b[0m\u001b[0;34m)\u001b[0m\u001b[0;34m\u001b[0m\u001b[0;34m\u001b[0m\u001b[0m\n",
            "\u001b[0;31mNameError\u001b[0m: name 'countdown' is not defined"
          ]
        }
      ]
    },
    {
      "cell_type": "code",
      "metadata": {
        "id": "ZS0NXzX18YMF"
      },
      "source": [
        "\n",
        "import gc"
      ],
      "execution_count": null,
      "outputs": []
    },
    {
      "cell_type": "code",
      "metadata": {
        "colab": {
          "base_uri": "https://localhost:8080/",
          "height": 166
        },
        "id": "4B52TAeD8a6o",
        "outputId": "a97550f7-21c7-4be2-83c8-09f60798cc9c"
      },
      "source": [
        "gc.get_stats()"
      ],
      "execution_count": null,
      "outputs": [
        {
          "output_type": "error",
          "ename": "NameError",
          "evalue": "ignored",
          "traceback": [
            "\u001b[0;31m---------------------------------------------------------------------------\u001b[0m",
            "\u001b[0;31mNameError\u001b[0m                                 Traceback (most recent call last)",
            "\u001b[0;32m<ipython-input-39-a53535536839>\u001b[0m in \u001b[0;36m<module>\u001b[0;34m()\u001b[0m\n\u001b[0;32m----> 1\u001b[0;31m \u001b[0mgc\u001b[0m\u001b[0;34m.\u001b[0m\u001b[0mget_stats\u001b[0m\u001b[0;34m(\u001b[0m\u001b[0;34m)\u001b[0m\u001b[0;34m\u001b[0m\u001b[0;34m\u001b[0m\u001b[0m\n\u001b[0m",
            "\u001b[0;31mNameError\u001b[0m: name 'gc' is not defined"
          ]
        }
      ]
    },
    {
      "cell_type": "code",
      "metadata": {
        "colab": {
          "base_uri": "https://localhost:8080/"
        },
        "id": "HcBGOfbc8cH6",
        "outputId": "8e33e5d4-abc1-42e5-c644-4d5b36c63c44"
      },
      "source": [
        "%%file generator.py\n",
        "import time\n",
        "import sys\n",
        "\n",
        "def squares(n):\n",
        "    nums = list(range(n))\n",
        "    return [i*i for i in nums]\n",
        "    \n",
        "    \n",
        "def gsquares(n):\n",
        "    for i in range(n):\n",
        "        yield i*i\n",
        "        \n",
        "if __name__ == \"__main__\":\n",
        "    if sys.argv[1] == \"g\":\n",
        "        s = 0\n",
        "        for i in gsquares(int(sys.argv[2])):\n",
        "            s+=i\n",
        "        time.sleep(20)\n",
        "        print(s)\n",
        "    else:\n",
        "        sqrs = squares(int(sys.argv[1]))\n",
        "        time.sleep(20)\n",
        "        print(sum(sqrs))"
      ],
      "execution_count": null,
      "outputs": [
        {
          "output_type": "stream",
          "name": "stdout",
          "text": [
            "Writing generator.py\n"
          ]
        }
      ]
    },
    {
      "cell_type": "code",
      "metadata": {
        "colab": {
          "base_uri": "https://localhost:8080/"
        },
        "id": "GSwrUTFr8de7",
        "outputId": "f41ec899-52a9-46b2-ce15-6bcc8d307514"
      },
      "source": [
        "!python generator.py 1000"
      ],
      "execution_count": null,
      "outputs": [
        {
          "output_type": "stream",
          "name": "stdout",
          "text": [
            "332833500\n"
          ]
        }
      ]
    },
    {
      "cell_type": "markdown",
      "metadata": {
        "id": "JS-SRzUt-n2S"
      },
      "source": [
        "### Building data piplines"
      ]
    },
    {
      "cell_type": "code",
      "metadata": {
        "id": "t3Fn2aJy9EDR"
      },
      "source": [
        "import os\n",
        "\n",
        "def find(root):\n",
        "    for path, dirnames, filenames in os.walk(root):\n",
        "        for f in filename:\n",
        "            yield os.path.join(path, f)"
      ],
      "execution_count": null,
      "outputs": []
    },
    {
      "cell_type": "code",
      "metadata": {
        "id": "XEWpgiFK-4tc"
      },
      "source": [
        "def take(n, seq):\n",
        "    return [next(seq) for i in range(n)]"
      ],
      "execution_count": null,
      "outputs": []
    },
    {
      "cell_type": "code",
      "metadata": {
        "id": "u2Ch07vQ_BSU"
      },
      "source": [
        "def naturals():\n",
        "    y = 1\n",
        "    while 1:\n",
        "        yield y\n",
        "        y += 1 "
      ],
      "execution_count": null,
      "outputs": []
    },
    {
      "cell_type": "code",
      "metadata": {
        "id": "AqH-ro1b_STZ"
      },
      "source": [
        "x10 = (i*i for i in range(10))"
      ],
      "execution_count": null,
      "outputs": []
    },
    {
      "cell_type": "code",
      "metadata": {
        "colab": {
          "base_uri": "https://localhost:8080/"
        },
        "id": "kGJ8SsPv_fLl",
        "outputId": "381a45a5-5ce0-4755-f73c-62980a13076a"
      },
      "source": [
        "for i in x10:\n",
        "    print(i, end = \" , \") "
      ],
      "execution_count": null,
      "outputs": [
        {
          "output_type": "stream",
          "name": "stdout",
          "text": [
            "0 , 1 , 4 , 9 , 16 , 25 , 36 , 49 , 64 , 81 , "
          ]
        }
      ]
    },
    {
      "cell_type": "code",
      "metadata": {
        "id": "FotoQ0R__lfq"
      },
      "source": [
        "def squares(seq):\n",
        "    return (i*i for i in seq)"
      ],
      "execution_count": null,
      "outputs": []
    },
    {
      "cell_type": "code",
      "metadata": {
        "id": "FYkg-LdU_wPZ"
      },
      "source": [
        "nat = naturals()"
      ],
      "execution_count": null,
      "outputs": []
    },
    {
      "cell_type": "code",
      "metadata": {
        "colab": {
          "base_uri": "https://localhost:8080/"
        },
        "id": "ZBU8QflG_zZ0",
        "outputId": "e3c9f2c9-f9ce-4c5b-c725-b08a9ec9ac22"
      },
      "source": [
        "nat"
      ],
      "execution_count": null,
      "outputs": [
        {
          "output_type": "execute_result",
          "data": {
            "text/plain": [
              "<generator object naturals at 0x7f38a4afbf50>"
            ]
          },
          "metadata": {},
          "execution_count": 49
        }
      ]
    },
    {
      "cell_type": "code",
      "metadata": {
        "id": "hvC4qgI4_z40"
      },
      "source": [
        "sqr_nat = squares(nat)"
      ],
      "execution_count": null,
      "outputs": []
    },
    {
      "cell_type": "code",
      "metadata": {
        "colab": {
          "base_uri": "https://localhost:8080/"
        },
        "id": "-ZEqKKxx_9q0",
        "outputId": "7121b9a7-4664-4cac-c369-1297035490f8"
      },
      "source": [
        "take(10, sqr_nat)"
      ],
      "execution_count": null,
      "outputs": [
        {
          "output_type": "execute_result",
          "data": {
            "text/plain": [
              "[1, 4, 9, 16, 25, 36, 49, 64, 81, 100]"
            ]
          },
          "metadata": {},
          "execution_count": 51
        }
      ]
    },
    {
      "cell_type": "code",
      "metadata": {
        "colab": {
          "base_uri": "https://localhost:8080/"
        },
        "id": "INBYUrSDAD2I",
        "outputId": "c45e77dc-f096-40b9-f5e1-fe6f7d082ca4"
      },
      "source": [
        "take(10, sqr_nat)"
      ],
      "execution_count": null,
      "outputs": [
        {
          "output_type": "execute_result",
          "data": {
            "text/plain": [
              "[121, 144, 169, 196, 225, 256, 289, 324, 361, 400]"
            ]
          },
          "metadata": {},
          "execution_count": 52
        }
      ]
    },
    {
      "cell_type": "code",
      "metadata": {
        "id": "zDnuBhqjAHss"
      },
      "source": [
        "import os\n",
        "\n",
        "def find(root):\n",
        "    for path, dirnames, filenames in os.walk(root):\n",
        "        for f in filenames:\n",
        "            yield  os.path.join(path, f)\n",
        "\n",
        "def grep(pattern, seq):\n",
        "    return (x for x in seq if pattern in x)\n",
        "    "
      ],
      "execution_count": null,
      "outputs": []
    },
    {
      "cell_type": "code",
      "metadata": {
        "id": "mYzmjpZDA0Us"
      },
      "source": [
        "def count(seq):\n",
        "    return sum((1 for i in seq))"
      ],
      "execution_count": null,
      "outputs": []
    },
    {
      "cell_type": "code",
      "metadata": {
        "id": "z0xjU1rhBK1L"
      },
      "source": [
        "import os\n",
        "\n",
        "def find(root):\n",
        "    for path, dirnames, filenames in os.walk(root):\n",
        "        for f in filenames:\n",
        "            yield  os.path.join(path, f)\n",
        "\n",
        "def grep(pattern, seq):\n",
        "    return (x for x in seq if pattern in x)\n",
        "    \n",
        "def readlines(filenames):\n",
        "    for file in filenames:\n",
        "        with open(file) as f:\n",
        "            for line in f:\n",
        "                yield line\n"
      ],
      "execution_count": null,
      "outputs": []
    },
    {
      "cell_type": "code",
      "metadata": {
        "colab": {
          "base_uri": "https://localhost:8080/"
        },
        "id": "RpQ21TqsANcl",
        "outputId": "41bf3030-8fde-4752-d6a0-3d366f9fc5d5"
      },
      "source": [
        "files = find('.')\n",
        "pyfiles = grep(\".py\", files)\n",
        "take(1, pyfiles)\n",
        "lines = readlines(pyfiles)\n",
        "count(lines)"
      ],
      "execution_count": null,
      "outputs": [
        {
          "output_type": "execute_result",
          "data": {
            "text/plain": [
              "0"
            ]
          },
          "metadata": {},
          "execution_count": 56
        }
      ]
    },
    {
      "cell_type": "markdown",
      "metadata": {
        "id": "T6z97deMBrQt"
      },
      "source": [
        "### Pratice"
      ]
    },
    {
      "cell_type": "code",
      "metadata": {
        "id": "1IV73mwWBtas"
      },
      "source": [
        "import os\n",
        "\n",
        "def find(root):\n",
        "    for path, dirnames, filenames in os.walk(root):\n",
        "        for f in filenames:\n",
        "            yield  os.path.join(path, f)\n",
        "\n",
        "def take(n, seq):\n",
        "    return [next(seq) for i in range(n)]\n",
        "\n",
        "def grep(pattern, seq):\n",
        "    return (x for x in seq if pattern in x)"
      ],
      "execution_count": null,
      "outputs": []
    },
    {
      "cell_type": "code",
      "metadata": {
        "colab": {
          "base_uri": "https://localhost:8080/",
          "height": 346
        },
        "id": "c3zdwUhYB29j",
        "outputId": "1e746717-323c-46c9-8c80-3735bcd3b045"
      },
      "source": [
        "files = find(\".\")\n",
        "notebooks = grep(\".ipynb\", files)\n",
        "take(3, notebooks)"
      ],
      "execution_count": null,
      "outputs": [
        {
          "output_type": "error",
          "ename": "StopIteration",
          "evalue": "ignored",
          "traceback": [
            "\u001b[0;31m---------------------------------------------------------------------------\u001b[0m",
            "\u001b[0;31mStopIteration\u001b[0m                             Traceback (most recent call last)",
            "\u001b[0;32m<ipython-input-58-d378eded16d9>\u001b[0m in \u001b[0;36m<module>\u001b[0;34m()\u001b[0m\n\u001b[1;32m      1\u001b[0m \u001b[0mfiles\u001b[0m \u001b[0;34m=\u001b[0m \u001b[0mfind\u001b[0m\u001b[0;34m(\u001b[0m\u001b[0;34m\".\"\u001b[0m\u001b[0;34m)\u001b[0m\u001b[0;34m\u001b[0m\u001b[0;34m\u001b[0m\u001b[0m\n\u001b[1;32m      2\u001b[0m \u001b[0mnotebooks\u001b[0m \u001b[0;34m=\u001b[0m \u001b[0mgrep\u001b[0m\u001b[0;34m(\u001b[0m\u001b[0;34m\".ipynb\"\u001b[0m\u001b[0;34m,\u001b[0m \u001b[0mfiles\u001b[0m\u001b[0;34m)\u001b[0m\u001b[0;34m\u001b[0m\u001b[0;34m\u001b[0m\u001b[0m\n\u001b[0;32m----> 3\u001b[0;31m \u001b[0mtake\u001b[0m\u001b[0;34m(\u001b[0m\u001b[0;36m3\u001b[0m\u001b[0;34m,\u001b[0m \u001b[0mnotebooks\u001b[0m\u001b[0;34m)\u001b[0m\u001b[0;34m\u001b[0m\u001b[0;34m\u001b[0m\u001b[0m\n\u001b[0m",
            "\u001b[0;32m<ipython-input-57-b6845c202b9f>\u001b[0m in \u001b[0;36mtake\u001b[0;34m(n, seq)\u001b[0m\n\u001b[1;32m      7\u001b[0m \u001b[0;34m\u001b[0m\u001b[0m\n\u001b[1;32m      8\u001b[0m \u001b[0;32mdef\u001b[0m \u001b[0mtake\u001b[0m\u001b[0;34m(\u001b[0m\u001b[0mn\u001b[0m\u001b[0;34m,\u001b[0m \u001b[0mseq\u001b[0m\u001b[0;34m)\u001b[0m\u001b[0;34m:\u001b[0m\u001b[0;34m\u001b[0m\u001b[0;34m\u001b[0m\u001b[0m\n\u001b[0;32m----> 9\u001b[0;31m     \u001b[0;32mreturn\u001b[0m \u001b[0;34m[\u001b[0m\u001b[0mnext\u001b[0m\u001b[0;34m(\u001b[0m\u001b[0mseq\u001b[0m\u001b[0;34m)\u001b[0m \u001b[0;32mfor\u001b[0m \u001b[0mi\u001b[0m \u001b[0;32min\u001b[0m \u001b[0mrange\u001b[0m\u001b[0;34m(\u001b[0m\u001b[0mn\u001b[0m\u001b[0;34m)\u001b[0m\u001b[0;34m]\u001b[0m\u001b[0;34m\u001b[0m\u001b[0;34m\u001b[0m\u001b[0m\n\u001b[0m\u001b[1;32m     10\u001b[0m \u001b[0;34m\u001b[0m\u001b[0m\n\u001b[1;32m     11\u001b[0m \u001b[0;32mdef\u001b[0m \u001b[0mgrep\u001b[0m\u001b[0;34m(\u001b[0m\u001b[0mpattern\u001b[0m\u001b[0;34m,\u001b[0m \u001b[0mseq\u001b[0m\u001b[0;34m)\u001b[0m\u001b[0;34m:\u001b[0m\u001b[0;34m\u001b[0m\u001b[0;34m\u001b[0m\u001b[0m\n",
            "\u001b[0;32m<ipython-input-57-b6845c202b9f>\u001b[0m in \u001b[0;36m<listcomp>\u001b[0;34m(.0)\u001b[0m\n\u001b[1;32m      7\u001b[0m \u001b[0;34m\u001b[0m\u001b[0m\n\u001b[1;32m      8\u001b[0m \u001b[0;32mdef\u001b[0m \u001b[0mtake\u001b[0m\u001b[0;34m(\u001b[0m\u001b[0mn\u001b[0m\u001b[0;34m,\u001b[0m \u001b[0mseq\u001b[0m\u001b[0;34m)\u001b[0m\u001b[0;34m:\u001b[0m\u001b[0;34m\u001b[0m\u001b[0;34m\u001b[0m\u001b[0m\n\u001b[0;32m----> 9\u001b[0;31m     \u001b[0;32mreturn\u001b[0m \u001b[0;34m[\u001b[0m\u001b[0mnext\u001b[0m\u001b[0;34m(\u001b[0m\u001b[0mseq\u001b[0m\u001b[0;34m)\u001b[0m \u001b[0;32mfor\u001b[0m \u001b[0mi\u001b[0m \u001b[0;32min\u001b[0m \u001b[0mrange\u001b[0m\u001b[0;34m(\u001b[0m\u001b[0mn\u001b[0m\u001b[0;34m)\u001b[0m\u001b[0;34m]\u001b[0m\u001b[0;34m\u001b[0m\u001b[0;34m\u001b[0m\u001b[0m\n\u001b[0m\u001b[1;32m     10\u001b[0m \u001b[0;34m\u001b[0m\u001b[0m\n\u001b[1;32m     11\u001b[0m \u001b[0;32mdef\u001b[0m \u001b[0mgrep\u001b[0m\u001b[0;34m(\u001b[0m\u001b[0mpattern\u001b[0m\u001b[0;34m,\u001b[0m \u001b[0mseq\u001b[0m\u001b[0;34m)\u001b[0m\u001b[0;34m:\u001b[0m\u001b[0;34m\u001b[0m\u001b[0;34m\u001b[0m\u001b[0m\n",
            "\u001b[0;31mStopIteration\u001b[0m: "
          ]
        }
      ]
    },
    {
      "cell_type": "code",
      "metadata": {
        "id": "g87kMUrJCJsp"
      },
      "source": [
        "def count(seq):\n",
        "    return sum(1 for i in seq)"
      ],
      "execution_count": null,
      "outputs": []
    },
    {
      "cell_type": "code",
      "metadata": {
        "colab": {
          "base_uri": "https://localhost:8080/"
        },
        "id": "rbKwPkgfCS-O",
        "outputId": "b49c5e43-d808-4d40-f041-0ae6d723956e"
      },
      "source": [
        "files = find(\".\")\n",
        "notebooks = grep(\".ipynb\", files)\n",
        "count(notebooks)"
      ],
      "execution_count": null,
      "outputs": [
        {
          "output_type": "execute_result",
          "data": {
            "text/plain": [
              "0"
            ]
          },
          "metadata": {},
          "execution_count": 60
        }
      ]
    },
    {
      "cell_type": "code",
      "metadata": {
        "id": "qM12h5IxDzfZ"
      },
      "source": [
        "def readlines(files):\n",
        "    for file in files:\n",
        "        with open(file) as f:\n",
        "            for line in f:\n",
        "                yield line"
      ],
      "execution_count": null,
      "outputs": []
    },
    {
      "cell_type": "code",
      "metadata": {
        "colab": {
          "base_uri": "https://localhost:8080/"
        },
        "id": "j9jwP0EgCmdM",
        "outputId": "3441eb9d-195b-452e-bec0-00e3d18a6159"
      },
      "source": [
        "files = find(\".\")\n",
        "notebooks = grep(\".ipynb\", files)\n",
        "count(notebooks)"
      ],
      "execution_count": null,
      "outputs": [
        {
          "output_type": "execute_result",
          "data": {
            "text/plain": [
              "0"
            ]
          },
          "metadata": {},
          "execution_count": 62
        }
      ]
    },
    {
      "cell_type": "code",
      "metadata": {
        "colab": {
          "base_uri": "https://localhost:8080/"
        },
        "id": "fo0Zk-WzCrV7",
        "outputId": "14a285c2-aae0-4e18-b289-ab65e937e99d"
      },
      "source": [
        "files = find(\".\")\n",
        "notebooks = grep(\".ipynb\", files)\n",
        "lines = readlines(notebooks)\n",
        "function_defs = grep(\"def\", lines)\n",
        "count(function_defs)"
      ],
      "execution_count": null,
      "outputs": [
        {
          "output_type": "execute_result",
          "data": {
            "text/plain": [
              "0"
            ]
          },
          "metadata": {},
          "execution_count": 63
        }
      ]
    },
    {
      "cell_type": "markdown",
      "metadata": {
        "id": "LFCdCoBhEfF2"
      },
      "source": [
        "# Problems\n",
        "- Write a function 'get_paragraphs' to split given textfile into paragraphs. Wherever there is empty line, thats where the paragraph ends. The function should take a sequence of lines, ie readlines function as an argument should return a sequence of paragraph\n",
        "once the function is ready make use of it to find\n",
        "- number of pararaphs in the book\n",
        "- find biggest paragraph from the book \n"
      ]
    },
    {
      "cell_type": "code",
      "metadata": {
        "colab": {
          "base_uri": "https://localhost:8080/"
        },
        "id": "lq4VLe7bGXY1",
        "outputId": "58c3e87c-fd19-4340-b623-60fed632ebdf"
      },
      "source": [
        "!wget https://ia802902.us.archive.org/4/items/prideandprejudic01342gut/pandp12.txt"
      ],
      "execution_count": null,
      "outputs": [
        {
          "output_type": "stream",
          "name": "stdout",
          "text": [
            "--2021-10-08 06:09:00--  https://ia802902.us.archive.org/4/items/prideandprejudic01342gut/pandp12.txt\n",
            "Resolving ia802902.us.archive.org (ia802902.us.archive.org)... 207.241.233.52\n",
            "Connecting to ia802902.us.archive.org (ia802902.us.archive.org)|207.241.233.52|:443... connected.\n",
            "HTTP request sent, awaiting response... 301 Moved Permanently\n",
            "Location: https://archive.org/download/prideandprejudic01342gut/pandp12.txt [following]\n",
            "--2021-10-08 06:09:00--  https://archive.org/download/prideandprejudic01342gut/pandp12.txt\n",
            "Resolving archive.org (archive.org)... 207.241.224.2\n",
            "Connecting to archive.org (archive.org)|207.241.224.2|:443... connected.\n",
            "HTTP request sent, awaiting response... 302 Found\n",
            "Location: https://ia902806.us.archive.org/23/items/prideandprejudic01342gut/pandp12.txt [following]\n",
            "--2021-10-08 06:09:01--  https://ia902806.us.archive.org/23/items/prideandprejudic01342gut/pandp12.txt\n",
            "Resolving ia902806.us.archive.org (ia902806.us.archive.org)... 207.241.232.106\n",
            "Connecting to ia902806.us.archive.org (ia902806.us.archive.org)|207.241.232.106|:443... connected.\n",
            "HTTP request sent, awaiting response... 200 OK\n",
            "Length: 717331 (701K) [text/plain]\n",
            "Saving to: ‘pandp12.txt’\n",
            "\n",
            "pandp12.txt         100%[===================>] 700.52K  1.90MB/s    in 0.4s    \n",
            "\n",
            "2021-10-08 06:09:01 (1.90 MB/s) - ‘pandp12.txt’ saved [717331/717331]\n",
            "\n"
          ]
        }
      ]
    },
    {
      "cell_type": "code",
      "metadata": {
        "id": "qNSzsypJET7j"
      },
      "source": [
        "def line_seq(filename):\n",
        "    with open(filename) as f:\n",
        "        for line in f:\n",
        "            yield line\n",
        "\n",
        "def get_paragraphs(seq):\n",
        "    paragraph = []\n",
        "    for line in seq:\n",
        "        if line.strip() == \"\":\n",
        "            yield ''.join(paragraph)\n",
        "            paragraph = []\n",
        "        else:\n",
        "            paragraph.append(line)\n",
        "    if paragraph:\n",
        "        yield \"\".join(paragraph)"
      ],
      "execution_count": null,
      "outputs": []
    },
    {
      "cell_type": "code",
      "metadata": {
        "id": "ZgBotNx1G1YE"
      },
      "source": [
        "paras = get_paragraphs(line_seq('pandp12.txt'))"
      ],
      "execution_count": null,
      "outputs": []
    },
    {
      "cell_type": "code",
      "metadata": {
        "colab": {
          "base_uri": "https://localhost:8080/"
        },
        "id": "A0iaSQS9Jwj_",
        "outputId": "63b32553-03a2-481e-dc49-ab791688dbb3"
      },
      "source": [
        "count(paras)"
      ],
      "execution_count": null,
      "outputs": [
        {
          "output_type": "execute_result",
          "data": {
            "text/plain": [
              "2401"
            ]
          },
          "metadata": {},
          "execution_count": 67
        }
      ]
    },
    {
      "cell_type": "code",
      "metadata": {
        "id": "gXxYAd8SMlV-"
      },
      "source": [
        ""
      ],
      "execution_count": null,
      "outputs": []
    }
  ]
}